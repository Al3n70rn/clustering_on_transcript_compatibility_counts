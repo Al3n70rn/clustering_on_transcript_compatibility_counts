{
 "cells": [
  {
   "cell_type": "markdown",
   "metadata": {},
   "source": [
    "#Create simulations of reads to generate results from gene abundances and eq class abundances\n",
    "* Choose a subset of transcripts (bernoulli). (create a common support. want to create some correlation ad hoc.)\n",
    "* Randomly remove 30% of the transcripts (play around with the percentage)\n",
    "* Choose a number of transcripts and assign them to the first class. Remove 30% of that and reallocate\n",
    "* Regenerate the rest of the 1s uniformly over the other transcripts\n"
   ]
  },
  {
   "cell_type": "code",
   "execution_count": null,
   "metadata": {
    "collapsed": true
   },
   "outputs": [],
   "source": []
  }
 ],
 "metadata": {
  "kernelspec": {
   "display_name": "Python 2",
   "language": "python",
   "name": "python2"
  },
  "language_info": {
   "codemirror_mode": {
    "name": "ipython",
    "version": 2
   },
   "file_extension": ".py",
   "mimetype": "text/x-python",
   "name": "python",
   "nbconvert_exporter": "python",
   "pygments_lexer": "ipython2",
   "version": "2.7.10"
  }
 },
 "nbformat": 4,
 "nbformat_minor": 0
}
