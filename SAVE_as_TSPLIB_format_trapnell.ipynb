{
 "cells": [
  {
   "cell_type": "code",
   "execution_count": 1,
   "metadata": {
    "collapsed": true
   },
   "outputs": [],
   "source": [
    "import numpy as np\n",
    "import pickle"
   ]
  },
  {
   "cell_type": "code",
   "execution_count": 2,
   "metadata": {
    "collapsed": true
   },
   "outputs": [],
   "source": [
    "# Load precomputed jensen_shannon distance matrix\n",
    "with open('/data/SS_RNA_seq/Code/clustering_on_reads/Trapnell_SJ.dat', 'rb') as infile:\n",
    "    D = pickle.load(infile)  \n",
    "with open('/data/SS_RNA_seq/Code/clustering_on_reads/Trapnell_sparse_eq_class_unnormalised.dat', 'rb') as infile:\n",
    "    Xu = pickle.load(infile)\n",
    "num_reads=Xu.sum(axis=1)\n",
    "cells_sorted_by_num_reads=sorted(range(len(num_reads)), key=lambda k: num_reads[k], reverse=True)\n",
    "\n",
    "#exclude bulk and low coverage\n",
    "Dcleaned=D[np.ix_(cells_sorted_by_num_reads[:282],cells_sorted_by_num_reads[:282])]    \n",
    "Dc = Dcleaned[np.ix_(range(24,260),range(24,260))]\n",
    "    \n",
    "    \n",
    "    \n",
    "    \n",
    "Ds = np.rint(Dc*100000)\n",
    "Ds= Ds.astype(int)"
   ]
  },
  {
   "cell_type": "code",
   "execution_count": 3,
   "metadata": {
    "collapsed": true
   },
   "outputs": [],
   "source": [
    "A=Ds\n",
    "zc=np.zeros((np.size(A[:,1]),1), dtype=np.int)\n",
    "zr=np.zeros((1,np.size(A[:,1])+1), dtype=np.int)\n",
    "A=np.c_[zc,A]\n",
    "A=np.r_[zr,A]"
   ]
  },
  {
   "cell_type": "code",
   "execution_count": 4,
   "metadata": {
    "collapsed": true
   },
   "outputs": [],
   "source": [
    "f = open(\"TSP_instance_trapnell.tsp\", \"w\")\n",
    "#write header\n",
    "f.writelines([\"NAME : TSP instance trapnell\"+'\\n',\n",
    "\"COMMENT : equivalence class clustering\"+'\\n',\n",
    "\"TYPE : TSP\\n\",\n",
    "\"DIMENSION :\" + str(np.size(A[:,1]))+'\\n',\n",
    "\"EDGE_WEIGHT_TYPE : EXPLICIT\"+'\\n',\n",
    "\"EDGE_WEIGHT_FORMAT : FULL_MATRIX\"+'\\n',\n",
    "\"EDGE_WEIGHT_SECTION\"+'\\n'])\n",
    "#write edge weights\n",
    "for i in range(np.size(A[:,1])):\n",
    "    row_str = ' '.join(['%d' % num for num in A[i,:]])+'\\n'\n",
    "    f.write(row_str)\n",
    "f.write(\"EOF\")   \n",
    "f.close()"
   ]
  },
  {
   "cell_type": "markdown",
   "metadata": {},
   "source": [
    "## Run Concorde to solve TSP_instance.tsp  .... \n",
    "## ... and then continue here to extract/save the optimal path:"
   ]
  },
  {
   "cell_type": "code",
   "execution_count": 5,
   "metadata": {
    "collapsed": false
   },
   "outputs": [
    {
     "name": "stdout",
     "output_type": "stream",
     "text": [
      "the direct traversal has distance: 12468556.0\n",
      "the optimal traversal has distance: 11284017.0\n",
      "[ 235.  147.    7.   13.  124.  140.    2.   22.  185.  202.  138.   35.\n",
      "   26.  195.  165.   90.   52.  183.   95.  203.   81.   41.  121.   40.\n",
      "  112.   83.  109.   51.  210.  120.  169.  159.   94.  224.  204.   98.\n",
      "   56.  164.  219.  184.  179.   73.  223.   14.  175.  135.  123.   10.\n",
      "   55.   70.   19.  131.   43.  231.  166.  162.   91.   78.   88.   58.\n",
      "   30.  163.  116.  113.  201.   77.  160.   61.   32.   18.   71.   47.\n",
      "  157.  117.   46.  213.   86.  178.  111.   59.  102.  198.  128.   39.\n",
      "   64.  144.  119.   53.   23.  200.  217.  209.   25.  168.  180.  156.\n",
      "  139.   15.  216.  205.  228.   68.   75.  132.  211.  199.  220.   84.\n",
      "  206.   34.  212.  227.  137.   44.  153.   54.  118.   36.  125.  193.\n",
      "  146.  214.   69.  181.   76.   82.  150.  136.  148.   89.  230.   97.\n",
      "  187.  182.  100.   21.  170.   65.   45.   60.  161.   80.   24.   48.\n",
      "   27.  115.  126.  108.   79.   99.    5.  133.  190.  167.  186.   85.\n",
      "  174.  234.  232.  192.   38.  130.  177.  218.   93.   50.   72.   11.\n",
      "   12.  194.  142.   20.  149.  151.  101.   66.  172.    8.   49.  107.\n",
      "   28.    0.  176.  122.  127.   74.  114.    1.   96.   67.  225.  134.\n",
      "   17.  197.  233.   29.   33.  215.  145.  106.   92.  143.  152.  110.\n",
      "   63.  229.  104.    9.  222.  189.   16.  103.  207.  226.   42.   31.\n",
      "  173.  105.  188.  155.  171.  221.  196.  154.  129.   62.  158.  208.\n",
      "   37.   87.   57.    6.    4.  141.    3.  191.]\n"
     ]
    },
    {
     "data": {
      "text/plain": [
       "235.0"
      ]
     },
     "execution_count": 5,
     "metadata": {},
     "output_type": "execute_result"
    }
   ],
   "source": [
    "#read the tsp_solution and get opt path\n",
    "with open('/data/software/concorde/TSP/TSP_instance_trapnell.sol', 'r') as infile:\n",
    "    lines=infile.readlines()\n",
    "path=[]\n",
    "for line in lines[1:]:\n",
    "    path = path+ [int(s) for s in line[:-2].split(' ')]\n",
    "\n",
    "#sanity check\n",
    "dist=np.zeros(237)\n",
    "for i in range(236):\n",
    "        dist[i]=A[i,i+1]\n",
    "print \"the direct traversal has distance: \" + str(dist.sum())\n",
    "           \n",
    "dist=np.zeros(237)\n",
    "for i in range(236):\n",
    "        dist[i]=A[path[i],path[i+1]]\n",
    "print \"the optimal traversal has distance: \"+str(dist.sum())    \n",
    "    \n",
    "#remove dummy node and make it zero-indexed    \n",
    "path=path[1:]  \n",
    "path=path -np.ones(236)   \n",
    "\n",
    "#check \n",
    "print path\n",
    "path.max()\n",
    "\n",
    "\n"
   ]
  },
  {
   "cell_type": "code",
   "execution_count": 6,
   "metadata": {
    "collapsed": true
   },
   "outputs": [],
   "source": [
    "#Save path\n",
    "pickle.dump( path, open( \"TSP_sol_path_trapnell.dat\", \"wb\" ) )"
   ]
  },
  {
   "cell_type": "code",
   "execution_count": null,
   "metadata": {
    "collapsed": true
   },
   "outputs": [],
   "source": []
  }
 ],
 "metadata": {
  "kernelspec": {
   "display_name": "Python 2",
   "language": "python",
   "name": "python2"
  },
  "language_info": {
   "codemirror_mode": {
    "name": "ipython",
    "version": 2
   },
   "file_extension": ".py",
   "mimetype": "text/x-python",
   "name": "python",
   "nbconvert_exporter": "python",
   "pygments_lexer": "ipython2",
   "version": "2.7.10"
  }
 },
 "nbformat": 4,
 "nbformat_minor": 0
}
