{
 "cells": [
  {
   "cell_type": "markdown",
   "metadata": {},
   "source": [
    "# Runtime comparison of alignment/quantification methods\n",
    "\n",
    "This notebook reviews how we ran other tools and obtained Figure 3 in our paper. Before clustering cells, we need to obtain a feature vector for each cell. Each cell should have a unique feature vector, and similar cells (or cells of the same type) should have similar feature vectors. Various methods have been used to obtain this feature vector. We looked at two types of feature vectors: \n",
    "\n",
    "* gene/transcript abundances \n",
    "* TCCs of equivalence classes\n",
    "\n",
    "Traditionally, cells have been represented using the abundances of different genes or transcripts. Tools such as eXpress quantify on aligned reads, a costly procedure done using tools such as Bowtie1 and HISAT. Therefore the runtimes of any procedure that quantifies on aligned reads are lower bounded by the alignment step. We look at the runtime of Bowtie and HISAT here.\n",
    "\n",
    "We also look at the runtime of kallisto, which consists of pseudoaligning the reads followed by quantification of transcript abundances. Because TCCs does not require the second step, a pipeline that only requires pseudoalignment is even faster. \n",
    "\n",
    "Finally we look at how long the bash command \"wc -l\" takes to run on the input file. This is what we assume to be the fastest possible time to go through all reads in the file once."
   ]
  },
  {
   "cell_type": "code",
   "execution_count": 10,
   "metadata": {
    "collapsed": true
   },
   "outputs": [],
   "source": [
    "# Modules used in this notebook \n",
    "import numpy as np\n",
    "import os\n",
    "import colorsys\n",
    "import matplotlib.pyplot as plt"
   ]
  },
  {
   "cell_type": "markdown",
   "metadata": {},
   "source": [
    "The inputs to this pipeline are \n",
    "\n",
    "* path to modified kallisto\n",
    "\n",
    "* path to reference mouse transcriptoime\n",
    "\n",
    "* paths to the chromosomes of mouse genome (to be put without spaces in ./hisat_chr_path_list.txt)"
   ]
  },
  {
   "cell_type": "code",
   "execution_count": 18,
   "metadata": {
    "collapsed": true
   },
   "outputs": [],
   "source": [
    "modified_kallisto_path='/data/SS_RNA_seq/Code/kalliPso'\n",
    "mouse_reference='/data/SS_RNA_seq/Zeisel/reference_transcriptome/Mus_musculus.GRCm38.rel79.cdna.all.fa'\n",
    "\n",
    "# This should be set to True if one wants to run the pipeline on the same cells as used in the paper. \n",
    "#Zeisel_wrapper needs to be run before if it is set to True.\n",
    "same_cells_as_paper=False"
   ]
  },
  {
   "cell_type": "markdown",
   "metadata": {},
   "source": [
    "Run the script. This executes and times Bowtie, HISAT, kallisto quant (original kallisto), and kallisto pseudoalign (TCC or kallisto without quantification) for ten cells. The times are saved in the appropriate folders in this directory."
   ]
  },
  {
   "cell_type": "code",
   "execution_count": 21,
   "metadata": {
    "collapsed": false
   },
   "outputs": [
    {
     "data": {
      "text/plain": [
       "0"
      ]
     },
     "execution_count": 21,
     "metadata": {},
     "output_type": "execute_result"
    }
   ],
   "source": [
    "if same_cells_as_paper:\n",
    "    os.system('python time_test.py -k '+modified_kallisto_path+\n",
    "              ' -r '+ mouse_reference+' -h ./hisat_chr_path_list.txt -p')\n",
    "else:\n",
    "    os.system('python time_test.py -k '+modified_kallisto_path+\n",
    "              ' -r '+ mouse_reference+' -h ./hisat_chr_path_list.txt')"
   ]
  },
  {
   "cell_type": "markdown",
   "metadata": {},
   "source": [
    "Load the times generated using the above script"
   ]
  },
  {
   "cell_type": "code",
   "execution_count": 22,
   "metadata": {
    "collapsed": false
   },
   "outputs": [],
   "source": [
    "with open('./TCC/time.time') as f: TCC=float(f.readline())\n",
    "with open('./bowtie1/time.time') as f: bowtie1=float(f.readline())\n",
    "with open('./hisat/time.time') as f: hisat=float(f.readline())\n",
    "with open('./kallisto/time.time') as f: kallisto=float(f.readline())\n",
    "with open('./wc/time.time') as f: wc=float(f.readline())"
   ]
  },
  {
   "cell_type": "markdown",
   "metadata": {},
   "source": [
    "Generate the bar plot comparing the runtimes of different methods. "
   ]
  },
  {
   "cell_type": "code",
   "execution_count": 26,
   "metadata": {
    "collapsed": false
   },
   "outputs": [
    {
     "data": {
      "image/png": "[encoded data removed]",
      "text/plain": [
       "<matplotlib.figure.Figure at 0x7fe8958987d0>"
      ]
     },
     "metadata": {},
     "output_type": "display_data"
    }
   ],
   "source": [
    "%matplotlib inline\n",
    "\n",
    "# Generate RBG values to create a rainbow for N bars\n",
    "N = 5\n",
    "HSV_tuples = [(x*1.0/N, 0.6, 0.7) for x in range(N)]\n",
    "RGB_tuples = map(lambda x: colorsys.hsv_to_rgb(*x), HSV_tuples)\n",
    "\n",
    "menMeans = (bowtie1,hisat,kallisto,TCC,wc)\n",
    "\n",
    "ind = np.arange(N)\n",
    "width = 0.45\n",
    "\n",
    "fig = plt.figure(figsize=(10,10))\n",
    "ax = fig.add_subplot(111)\n",
    "rects1 = ax.bar(ind, menMeans, width=0.8, color=RGB_tuples,zorder=4, align='center')\n",
    "methods = [' Bowtie', '   HISAT','   Kallisto\\n   Quant',\n",
    "           '   Kallisto\\n    Pseudoalign','    WordCount']\n",
    "plt.grid()\n",
    "\n",
    "xticks_pos = [0.65*patch.get_width() + patch.get_xy()[0] -0.2 for patch in rects1]\n",
    "plt.xticks(xticks_pos, methods, ha='center', rotation=0, size=10)\n",
    "\n",
    "rects = ax.patches\n",
    "hts=map(lambda x: str(int(x))+' s',menMeans)\n",
    "for rect, ht in zip(rects, hts):\n",
    "    height = rect.get_height()\n",
    "    ax.text(rect.get_x() + rect.get_width()/2, height + 5, \n",
    "            ht, ha='center', va='bottom',fontsize=11)\n",
    "\n",
    "plt.ylabel('Runtime (seconds)',size=12)\n",
    "plt.show()"
   ]
  }
 ],
 "metadata": {
  "kernelspec": {
   "display_name": "Python 2",
   "language": "python",
   "name": "python2"
  },
  "language_info": {
   "codemirror_mode": {
    "name": "ipython",
    "version": 2
   },
   "file_extension": ".py",
   "mimetype": "text/x-python",
   "name": "python",
   "nbconvert_exporter": "python",
   "pygments_lexer": "ipython2",
   "version": "2.7.11"
  }
 },
 "nbformat": 4,
 "nbformat_minor": 0
}
