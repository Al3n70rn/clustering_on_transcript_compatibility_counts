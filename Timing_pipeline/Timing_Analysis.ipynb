{
 "cells": [
  {
   "cell_type": "markdown",
   "metadata": {},
   "source": [
    "# Runtime comparison of alignment/quantification methods\n",
    "\n",
    "This notebook reviews how we ran other tools and obtained Figure 3 in our paper. Before clustering cells, we need to obtain a feature vector for each cell. Each cell should have a unique feature vector, and similar cells (or cells of the same type) should have similar feature vectors. Various methods have been used to obtain this feature vector; the two types of feature vectors we looked at consisted of: \n",
    "\n",
    "* gene/transcript abundances \n",
    "* TCCs of equivalence classes\n",
    "\n",
    "Traditionally, cells have been represented using the abundances of different genes or transcripts. Tools such as eXpress quantify on aligned reads, a costly procedure done using tools such as Bowtie1 and HISAT. Therefore the runtimes of any procedure that quantifies on aligned reads are lower bounded by the alignment step. We look at the runtime of Bowtie and HISAT here.\n",
    "\n",
    "We also look at the runtime of kallisto, which consists of pseudoaligning the reads followed by quantification of transcript abundances. Because TCCs does not require the second step, a pipeline that only requires pseudoalignment is even faster. \n",
    "\n",
    "Finally we look at how long the bash command \"wc\" takes to run on the input file. This is what we assume to be the fastest possible time to go through all reads in the file once.\n",
    "\n",
    "We collect runtimes for both datasets:\n",
    "1. <a href='#section1'> Zeisel's 3005 mouse brain cells, along with the time required to get pairwise distances </a>\n",
    "2. <a href='#section2'> Trapnell's 271 primary human myoblasts </a>\n"
   ]
  },
  {
   "cell_type": "code",
   "execution_count": 15,
   "metadata": {
    "collapsed": true
   },
   "outputs": [],
   "source": [
    "# Modules used in this notebook \n",
    "import numpy as np\n",
    "import os\n",
    "import re\n",
    "import colorsys\n",
    "import matplotlib.pyplot as plt"
   ]
  },
  {
   "cell_type": "markdown",
   "metadata": {},
   "source": [
    "## Zeisel's dataset <a id='section2'></a>\n",
    "\n",
    "Here we first compare kallisto's pseudoalignment speed to the alignment speeds of Bowtie and HISAT. We confirm that both kallisto and HISAT are orders of magnitude faster than Bowtie.\n",
    "\n",
    "The inputs to this pipeline are \n",
    "\n",
    "* path to modified kallisto\n",
    "\n",
    "* path to reference mouse transcriptoime\n",
    "\n",
    "* paths to the chromosomes of mouse genome (to be put without spaces in ./hisat_chr_path_list.txt)"
   ]
  },
  {
   "cell_type": "code",
   "execution_count": 16,
   "metadata": {
    "collapsed": true
   },
   "outputs": [],
   "source": [
    "modified_kallisto_path='/data/SS_RNA_seq/Code/kalliPso'\n",
    "mouse_reference='/data/SS_RNA_seq/Zeisel/reference_transcriptome/Mus_musculus.GRCm38.rel79.cdna.all.fa'\n",
    "\n",
    "seed=100"
   ]
  },
  {
   "cell_type": "markdown",
   "metadata": {},
   "source": [
    "Run the script. This executes and times Bowtie, HISAT, kallisto quant (original kallisto), and kallisto pseudoalign (TCC or kallisto without quantification) for ten cells. The times are saved in the appropriate folders in this directory."
   ]
  },
  {
   "cell_type": "code",
   "execution_count": 17,
   "metadata": {
    "collapsed": false
   },
   "outputs": [],
   "source": [
    "os.system('python time_test.py -k '+modified_kallisto_path+\n",
    "              ' -r '+ mouse_reference+' -h ./hisat_chr_path_list.txt -s '+str(seed))"
   ]
  },
  {
   "cell_type": "markdown",
   "metadata": {},
   "source": [
    "Load the times generated using the above script"
   ]
  },
  {
   "cell_type": "code",
   "execution_count": 109,
   "metadata": {
    "collapsed": false
   },
   "outputs": [],
   "source": [
    "with open('./TCC/time.time') as f: TCC=float(f.readline())\n",
    "with open('./bowtie1/time.time') as f: bowtie1=float(f.readline())\n",
    "with open('./hisat/time.time') as f: hisat=float(f.readline())\n",
    "# with open('./wc/time.time') as f: wc=float(f.readline())"
   ]
  },
  {
   "cell_type": "markdown",
   "metadata": {
    "collapsed": true
   },
   "source": [
    "Generate the bar plot comparing the runtimes of different methods. We can also look at the runtime of the clustering algorithms. The TCC vectors are an order of magnitude larger than the gene expression vectors, and we are interested in how much of a difference this makes."
   ]
  },
  {
   "cell_type": "code",
   "execution_count": 141,
   "metadata": {
    "collapsed": false
   },
   "outputs": [
    {
     "data": {
      "image/png": "[encoded data removed]",
      "text/plain": [
       "<matplotlib.figure.Figure at 0x7fd19ca908d0>"
      ]
     },
     "metadata": {},
     "output_type": "display_data"
    }
   ],
   "source": [
    "# Time clusterings\n",
    "\n",
    "# Run times for alignment and pseudoalignment\n",
    "menMeans = [float(i)/3600 for i in (bowtie1,hisat,TCC)]\n",
    "\n",
    "# Run times for clustering\n",
    "# os.system('bash time_pairwise_distances.sh')\n",
    "file_list=['time_TCC.txt','time_UMI.txt']\n",
    "times=np.zeros((len(file_list),1))\n",
    "cur_time=0\n",
    "for ind in range(len(file_list)):\n",
    "    with open ('../Zeisel_pipeline/'+file_list[ind]) as f:\n",
    "        for line in f:\n",
    "            line1=line.split()\n",
    "            if len(line1)==2 and (line1[0]=='user' or line1[0]=='sys'):\n",
    "                line2 = re.split(\"[ms]+\", line1[1])\n",
    "                cur_time += int(line2[0])*60 + float(line2[1])\n",
    "    times[ind]=np.round(float(cur_time)/3600)\n",
    "    cur_time=0\n",
    "    \n",
    "# Plot\n",
    "bottom_bar=[300*i for i in menMeans]\n",
    "top_bar=np.array([times[1], times[1], times[0]])\n",
    "total_ht=map(float,bottom_bar)+map(float,top_bar)\n",
    "N=3\n",
    "ind = np.arange(N)\n",
    "width = 0.45\n",
    "fig = plt.figure(figsize=(5,6))\n",
    "ax = fig.add_subplot(111)\n",
    "rects1 = ax.bar(ind, bottom_bar, width=0.8, color=\n",
    "                'LightBlue', zorder=4, align='center',label='Read mapping')\n",
    "rects2 = ax.bar(ind, top_bar, width=0.8, color=\n",
    "                'DarkBlue', zorder=4, align='center',label='Post read mapping',bottom=bottom_bar)\n",
    "methods = ['    Bowtie \\n', '   HISAT \\n','   Kallisto\\n   pseudoalign \\n',\n",
    "           '     Kallisto\\n Pseudoalign \\n',]\n",
    "\n",
    "rects = ax.patches\n",
    "for i in range(3):\n",
    "    menMeans[i] = top_bar[i]+bottom_bar[i]\n",
    "ii = 0\n",
    "hts=map(lambda x: (\"%.0f\" % x) +' h',menMeans)\n",
    "for rect, ht in zip(rects, hts):\n",
    "    height = rect.get_height()\n",
    "    ax.text(rect.get_x() + rect.get_width()/2, height+top_bar[ii], \n",
    "            ht, ha='center', va='bottom',fontsize=11)\n",
    "    ii += 1\n",
    "\n",
    "plt.grid()\n",
    "plt.legend()\n",
    "xticks_pos = [0.65*patch.get_width() + patch.get_xy()[0] -0.2 for patch in rects1]\n",
    "plt.xticks(xticks_pos, methods, ha='center', rotation=0, size=10)\n",
    "plt.ylabel('Runtime (core-hours)',size=12)\n",
    "save_name = 'Fig3a'\n",
    "if save_name is not None: plt.savefig('/data/SS_RNA_seq/Figures/'+save_name+'.eps', format='eps', dpi=900)\n",
    "plt.show()"
   ]
  },
  {
   "cell_type": "markdown",
   "metadata": {},
   "source": [
    "## Trapnell's dataset <a id='section2'></a>\n",
    "\n",
    "To confirm kallisto's pseudoalignment speed over hisat's alignment speed, we re-ran kallisto and HISAT on Trapnell's dataset. Unlike Zeisel's dataset, reads from Trapnell's dataset come from various locations within the transcript rather than just the beginning of the transcript (where the UMI would be). \n",
    "\n",
    "We ran HISAT using both the entire human genome (hg19) and using just the human transcriptome (GRCh38). For the latter, we used the \"--no-splice-alignment\" option."
   ]
  },
  {
   "cell_type": "code",
   "execution_count": 145,
   "metadata": {
    "collapsed": false
   },
   "outputs": [
    {
     "data": {
      "image/png": "[encoded data removed]",
      "text/plain": [
       "<matplotlib.figure.Figure at 0x7fd19cbbcc90>"
      ]
     },
     "metadata": {},
     "output_type": "display_data"
    }
   ],
   "source": [
    "file_list=['../Trapnell_pipeline/hisat_time.txt','../Trapnell_pipeline/hisat_trans_time.txt','../Trapnell_pipeline/kallisto_time.txt']\n",
    "n = len(file_list)\n",
    "times=np.zeros((n,1))\n",
    "\n",
    "cur_time=0\n",
    "for ind in range(n):\n",
    "    with open (file_list[ind]) as f:\n",
    "        for line in f:\n",
    "            line1=line.split()\n",
    "            if len(line1)==2 and (line1[0]=='user' or line1[0]=='sys'):\n",
    "                line2 = re.split(\"[ms]+\", line1[1])\n",
    "                cur_time += int(line2[0])*60 + float(line2[1])\n",
    "    times[ind]=float(cur_time)\n",
    "    cur_time=0\n",
    "    \n",
    "HSV_tuples = [(x*1.0/N, 0.6, 0.7) for x in range(N)]\n",
    "RGB_tuples = map(lambda x: colorsys.hsv_to_rgb(*x), HSV_tuples)\n",
    "\n",
    "menMeans = np.round(times/3600)\n",
    "\n",
    "ind = np.arange(N)\n",
    "\n",
    "fig = plt.figure(figsize=(5,6))\n",
    "ax = fig.add_subplot(111)\n",
    "rects1 = ax.bar(ind, menMeans, width=0.6, color=RGB_tuples,zorder=4, align='center')\n",
    "methods = ['Hisat \\n align \\n(hg19)','Hisat \\n align \\n(GRCh38)','kallisto \\n pseudoalign \\n(GRCm38)']\n",
    "plt.grid()\n",
    "\n",
    "plt.xticks( [0, 1,2],methods, ha='center', rotation=0, size=10)\n",
    "\n",
    "rects = ax.patches\n",
    "hts=map(lambda x: str(int(x))+' h',menMeans)\n",
    "for rect, ht in zip(rects, hts):\n",
    "    height = rect.get_height()\n",
    "    ax.text(rect.get_x() + rect.get_width()/2, height, \n",
    "            ht, ha='center', va='bottom',fontsize=11)\n",
    "plt.xlim(-0.5,2.5)\n",
    "plt.ylim(0,1.2*np.max(menMeans) )\n",
    "plt.ylabel('Runtime (core-hours)',size=12)\n",
    "save_name = 'Fig3b'\n",
    "if save_name is not None: plt.savefig('/data/SS_RNA_seq/Figures/'+save_name+'.eps', format='eps', dpi=900)\n",
    "plt.show()"
   ]
  }
 ],
 "metadata": {
  "kernelspec": {
   "display_name": "Python 2",
   "language": "python",
   "name": "python2"
  },
  "language_info": {
   "codemirror_mode": {
    "name": "ipython",
    "version": 2
   },
   "file_extension": ".py",
   "mimetype": "text/x-python",
   "name": "python",
   "nbconvert_exporter": "python",
   "pygments_lexer": "ipython2",
   "version": "2.7.11"
  }
 },
 "nbformat": 4,
 "nbformat_minor": 0
}
