{
 "cells": [
  {
   "cell_type": "markdown",
   "metadata": {},
   "source": [
    "# Runtime comparison of alignment/quantification methods\n",
    "\n",
    "This notebook reviews how we ran other tools and obtained Figure 3 in our paper. Before clustering cells, we need to obtain a feature vector for each cell. Each cell should have a unique feature vector, and similar cells (or cells of the same type) should have similar feature vectors. Various methods have been used to obtain this feature vector; the two types of feature vectors we looked at consisted of: \n",
    "\n",
    "* gene/transcript abundances \n",
    "* TCCs of equivalence classes\n",
    "\n",
    "Traditionally, cells have been represented using the abundances of different genes or transcripts. Tools such as eXpress quantify on aligned reads, a costly procedure done using tools such as Bowtie1 and HISAT. Therefore the runtimes of any procedure that quantifies on aligned reads are lower bounded by the alignment step. We look at the runtime of Bowtie and HISAT here.\n",
    "\n",
    "We also look at the runtime of kallisto, which consists of pseudoaligning the reads followed by quantification of transcript abundances. Because TCCs does not require the second step, a pipeline that only requires pseudoalignment is even faster. \n",
    "\n",
    "Finally we look at how long the bash command \"wc\" takes to run on the input file. This is what we assume to be the fastest possible time to go through all reads in the file once.\n",
    "\n",
    "We performing runtime analyses on the following:\n",
    "1. <a href='#section1'> Zeisel's 3005 mouse brain cells, along with the time required to get pairwise distances </a>\n",
    "2. <a href='#section2'> Trapnell's 271 primary human myoblasts </a>\n",
    "3. <a href='#section3'> Getting pairwise distances for clustering </a>\n"
   ]
  },
  {
   "cell_type": "code",
   "execution_count": 1,
   "metadata": {
    "collapsed": true
   },
   "outputs": [],
   "source": [
    "# Some modules used in this notebook \n",
    "import numpy as np\n",
    "import os\n",
    "import re\n",
    "import colorsys\n",
    "import matplotlib.pyplot as plt"
   ]
  },
  {
   "cell_type": "markdown",
   "metadata": {},
   "source": [
    "## Zeisel's dataset <a id='section2'></a>\n",
    "\n",
    "Here we first compare kallisto's pseudoalignment speed to the alignment speeds of Bowtie and HISAT. We confirm that both kallisto and HISAT are orders of magnitude faster than Bowtie.\n",
    "\n",
    "The inputs to this pipeline are \n",
    "\n",
    "* path to modified kallisto\n",
    "\n",
    "* path to reference mouse transcriptoime\n",
    "\n",
    "* paths to the chromosomes of mouse genome (to be put without spaces in ./hisat_chr_path_list.txt)"
   ]
  },
  {
   "cell_type": "code",
   "execution_count": 16,
   "metadata": {
    "collapsed": true
   },
   "outputs": [],
   "source": [
    "modified_kallisto_path='/data/SS_RNA_seq/Code/kalliPso'\n",
    "mouse_reference='/data/SS_RNA_seq/Zeisel/reference_transcriptome/Mus_musculus.GRCm38.rel79.cdna.all.fa'\n",
    "\n",
    "seed=100"
   ]
  },
  {
   "cell_type": "markdown",
   "metadata": {},
   "source": [
    "Run the script. This executes and times Bowtie, HISAT, kallisto quant (original kallisto), and kallisto pseudoalign (TCC or kallisto without quantification) for ten cells. The times are saved in the appropriate folders in this directory."
   ]
  },
  {
   "cell_type": "code",
   "execution_count": 17,
   "metadata": {
    "collapsed": false
   },
   "outputs": [],
   "source": [
    "os.system('python time_test.py -k '+modified_kallisto_path+\n",
    "              ' -r '+ mouse_reference+' -h ./hisat_chr_path_list.txt -s '+str(seed))"
   ]
  },
  {
   "cell_type": "markdown",
   "metadata": {},
   "source": [
    "Load the times generated using the above script"
   ]
  },
  {
   "cell_type": "code",
   "execution_count": 76,
   "metadata": {
    "collapsed": false
   },
   "outputs": [],
   "source": [
    "with open('./TCC/time.time') as f: TCC=float(f.readline())\n",
    "with open('./bowtie1/time.time') as f: bowtie1=float(f.readline())\n",
    "with open('./hisat/time.time') as f: hisat=float(f.readline())\n",
    "with open('./wc/time.time') as f: wc=float(f.readline())"
   ]
  },
  {
   "cell_type": "markdown",
   "metadata": {
    "collapsed": true
   },
   "source": [
    "Generate the bar plot comparing the runtimes of different methods. We can also look at the runtime of the clustering algorithms. The TCC vectors are an order of magnitude larger than the gene expression vectors, and we are interested in how much of a difference this makes."
   ]
  },
  {
   "cell_type": "code",
   "execution_count": 122,
   "metadata": {
    "collapsed": false
   },
   "outputs": [
    {
     "data": {
      "image/png": "[encoded data removed]",
      "text/plain": [
       "<matplotlib.figure.Figure at 0x7f70e4623c50>"
      ]
     },
     "metadata": {},
     "output_type": "display_data"
    }
   ],
   "source": [
    "menMeans = [float(i)/60 for i in (bowtie1,hisat,TCC,wc)]\n",
    "\n",
    "# Plot\n",
    "N=4\n",
    "HSV_tuples = [(x*1.0/N, 0.6, 0.7) for x in range(N)]\n",
    "RGB_tuples = map(lambda x: colorsys.hsv_to_rgb(*x), HSV_tuples)\n",
    "ind = np.arange(N)\n",
    "width = 0.45\n",
    "fig = plt.figure(figsize=(5,3))\n",
    "ax = fig.add_subplot(111)\n",
    "rects = ax.bar(ind, menMeans, width=0.8, color=RGB_tuples, \n",
    "               zorder=4, align='center',label='Read mapping')\n",
    "methods = ['    Bowtie \\n', '   HISAT \\n','   kallisto\\n   pseudoalign \\n',\n",
    "           '     Word Count',]\n",
    "\n",
    "rects = ax.patches\n",
    "ii = 0\n",
    "hts=map(lambda x: (\"%.2f\" % x) +' m',menMeans)\n",
    "for rect, ht in zip(rects, hts):\n",
    "    height = rect.get_height()\n",
    "    ax.text(rect.get_x() + rect.get_width()/2, height, \n",
    "            ht, ha='center', va='bottom',fontsize=11)\n",
    "    ii += 1\n",
    "\n",
    "plt.grid()\n",
    "xticks_pos = [0.65*patch.get_width() + patch.get_xy()[0] -0.2 for patch in rects]\n",
    "plt.xticks(xticks_pos, methods, ha='center', rotation=0, size=10)\n",
    "plt.ylim(0,np.max(menMeans)*1.2)\n",
    "plt.ylabel('Runtime (core-minutes)',size=12)    \n",
    "plt.show()\n"
   ]
  },
  {
   "cell_type": "code",
   "execution_count": 147,
   "metadata": {
    "collapsed": false
   },
   "outputs": [
    {
     "data": {
      "image/png": "[encoded data removed]",
      "text/plain": [
       "<matplotlib.figure.Figure at 0x7fd19cb5e4d0>"
      ]
     },
     "metadata": {},
     "output_type": "display_data"
    }
   ],
   "source": [
    "# Time clusterings\n",
    "\n",
    "# Run times for alignment and pseudoalignment\n",
    "menMeans = [float(i)/3600 for i in (bowtie1,hisat,TCC)]\n",
    "\n",
    "# Run times for clustering\n",
    "os.system('bash time_pairwise_distances.sh')\n",
    "file_list=['time_TCC.txt','time_UMI.txt']\n",
    "times=np.zeros((len(file_list),1))\n",
    "cur_time=0\n",
    "for ind in range(len(file_list)):\n",
    "    with open ('../Zeisel_pipeline/'+file_list[ind]) as f:\n",
    "        for line in f:\n",
    "            line1=line.split()\n",
    "            if len(line1)==2 and (line1[0]=='user' or line1[0]=='sys'):\n",
    "                line2 = re.split(\"[ms]+\", line1[1])\n",
    "                cur_time += int(line2[0])*60 + float(line2[1])\n",
    "    times[ind]=np.round(float(cur_time)/3600)\n",
    "    cur_time=0\n",
    "    \n",
    "# Plot\n",
    "bottom_bar=[300*i for i in menMeans]\n",
    "top_bar=np.array([times[1], times[1], times[0]])\n",
    "total_ht=map(float,bottom_bar)+map(float,top_bar)\n",
    "N=3\n",
    "ind = np.arange(N)\n",
    "width = 0.45\n",
    "fig = plt.figure(figsize=(5,3))\n",
    "ax = fig.add_subplot(111)\n",
    "rects1 = ax.bar(ind, bottom_bar, width=0.8, color=\n",
    "                'LightBlue', zorder=4, align='center',label='Read mapping')\n",
    "rects2 = ax.bar(ind, top_bar, width=0.8, color=\n",
    "                'DarkBlue', zorder=4, align='center',label='After read mapping',bottom=bottom_bar)\n",
    "methods = ['    Bowtie \\n', '   HISAT \\n','   Kallisto\\n   pseudoalign \\n',\n",
    "           '     kallisto\\n Pseudoalign \\n',]\n",
    "\n",
    "rects = ax.patches\n",
    "for i in range(3):\n",
    "    menMeans[i] = top_bar[i]+bottom_bar[i]\n",
    "ii = 0\n",
    "hts=map(lambda x: (\"%.0f\" % x) +' h',menMeans)\n",
    "for rect, ht in zip(rects, hts):\n",
    "    height = rect.get_height()\n",
    "    ax.text(rect.get_x() + rect.get_width()/2, height+top_bar[ii], \n",
    "            ht, ha='center', va='bottom',fontsize=11)\n",
    "    ii += 1\n",
    "\n",
    "plt.grid()\n",
    "plt.legend()\n",
    "xticks_pos = [0.65*patch.get_width() + patch.get_xy()[0] -0.2 for patch in rects1]\n",
    "plt.xticks(xticks_pos, methods, ha='center', rotation=0, size=10)\n",
    "plt.ylabel('Runtime (core-hours)',size=12)\n",
    "plt.show()"
   ]
  },
  {
   "cell_type": "markdown",
   "metadata": {},
   "source": [
    "## Trapnell's dataset <a id='section2'></a>\n",
    "\n",
    "To confirm kallisto's pseudoalignment speed over hisat's alignment speed, we re-ran kallisto and HISAT on Trapnell's dataset. Unlike Zeisel's dataset, reads from Trapnell's dataset come from various locations within the transcript rather than just the beginning of the transcript (where the UMI would be). \n",
    "\n",
    "We ran HISAT using both the entire human genome (hg19) and using just the human transcriptome (GRCh38). For the latter, we used the \"--no-splice-alignment\" option."
   ]
  },
  {
   "cell_type": "code",
   "execution_count": 127,
   "metadata": {
    "collapsed": false
   },
   "outputs": [
    {
     "data": {
      "image/png": "[encoded data removed]",
      "text/plain": [
       "<matplotlib.figure.Figure at 0x7f70e475b250>"
      ]
     },
     "metadata": {},
     "output_type": "display_data"
    }
   ],
   "source": [
    "file_list=['../Trapnell_pipeline/hisat_time.txt','../Trapnell_pipeline/hisat_trans_time.txt','../Trapnell_pipeline/kallisto_time.txt']\n",
    "n = len(file_list)\n",
    "times=np.zeros((n,1))\n",
    "\n",
    "cur_time=0\n",
    "for ind in range(n):\n",
    "    with open (file_list[ind]) as f:\n",
    "        for line in f:\n",
    "            line1=line.split()\n",
    "            if len(line1)==2 and (line1[0]=='user' or line1[0]=='sys'):\n",
    "                line2 = re.split(\"[ms]+\", line1[1])\n",
    "                cur_time += int(line2[0])*60 + float(line2[1])\n",
    "    times[ind]=float(cur_time)\n",
    "    cur_time=0\n",
    "\n",
    "menMeans = np.round(times/3600)\n",
    "\n",
    "ind = np.arange(3)\n",
    "\n",
    "fig = plt.figure(figsize=(5,4))\n",
    "plt.gcf().subplots_adjust(bottom=0.3)\n",
    "ax = fig.add_subplot(111)\n",
    "rects1 = ax.bar(ind, menMeans, width=0.6, color=(RGB_tuples[1],\n",
    "                                                 (0.28999999999999994, 0.7, 0.27999999999999997)\n",
    "                                                 ,RGB_tuples[2]),zorder=4, align='center')\n",
    "methods = ['HISAT \\n align \\n(hg19)','HISAT \\n align \\n(GRCh38)','kallisto \\n pseudoalign \\n(GRCm38)']\n",
    "plt.grid()\n",
    "\n",
    "plt.xticks( [0, 1,2],methods, ha='center', rotation=0, size=10)\n",
    "\n",
    "rects = ax.patches\n",
    "hts=map(lambda x: str(int(x))+' h',menMeans)\n",
    "for rect, ht in zip(rects, hts):\n",
    "    height = rect.get_height()\n",
    "    ax.text(rect.get_x() + rect.get_width()/2, height, \n",
    "            ht, ha='center', va='bottom',fontsize=11)\n",
    "plt.xlim(-0.5,2.5)\n",
    "plt.ylim(0,1.2*np.max(menMeans) )\n",
    "plt.ylabel('Runtime (core-seconds)',size=12)\n",
    "\n",
    "plt.show()"
   ]
  },
  {
   "cell_type": "markdown",
   "metadata": {},
   "source": [
    "## Runtime of getting pairwise distances <a id='section3'></a>\n",
    "\n",
    "For each dataset, we expect that off-the-shelf clustering algorithms run in approximately the same time after the $n \\times n$ distance matrix is obtained, where $n$ is the number of cells (3005 for Zeisel's dataset, and 271 for Trapnell's dataset). The bottle-neck to post-read-mapping processing is in the obtaining of the distance matrices. \n",
    "\n",
    "For Bowtie and HISAT, we obtain gene or transcript expression vectors, and therefore we find distances between length-20000 vectors. For TCC-based approaches, we find distances between length-400000 vectors. \n",
    "\n",
    "We examine how of much of a difference this makes below."
   ]
  },
  {
   "cell_type": "code",
   "execution_count": 97,
   "metadata": {
    "collapsed": false
   },
   "outputs": [],
   "source": [
    "import pickle\n",
    "import scipy\n",
    "import time\n",
    "from scipy.stats import entropy\n",
    "from sklearn.metrics.pairwise import pairwise_distances\n",
    "\n",
    "# Load matrices produced by various approaches\n",
    "\n",
    "# Zeisel's gene counts matrix\n",
    "X_Zeis = np.loadtxt('/data/SS_RNA_seq/Zeisel/Zeisel_expression_matrix.txt')\n",
    "# Trapnell's gene expression matrix\n",
    "X_Trap = np.loadtxt('/data/SS_RNA_seq/Code/metadata/Trapnell_metadata/HSMM/HSMM_expressions.txt').T\n",
    "# TCC matrix for Zeisel's dataset\n",
    "X_ZTCC = pickle.load(file('../Zeisel_pipeline/Zeisel_TCC_distribution_subsample100_full.dat','rb'))\n",
    "# TCC matrix for Trapnell's dataset\n",
    "X_TTCC = pickle.load(file('/data/SS_RNA_seq/Code/clustering_on_reads/Trapnell_pipeline/Trapnell_TCC_distribution.dat', 'rb'))\n",
    "\n",
    "# Normalize an array                                                                                         \n",
    "def normalize(X):\n",
    "    s = np.sum(X,axis=1)\n",
    "    X = X / s[:,None]\n",
    "    return X\n",
    "\n",
    "# Make sure all matrices are sparse and sum to 1\n",
    "def adjust_matrix(X):\n",
    "    if not scipy.sparse.issparse(X):\n",
    "        X = normalize(X)\n",
    "        return scipy.sparse.csr_matrix(X)\n",
    "    else: return X\n",
    "\n",
    "X_Zeis = adjust_matrix(X_Zeis)\n",
    "X_Trap = adjust_matrix(X_Trap)\n",
    "X_ZTCC = adjust_matrix(X_ZTCC)\n",
    "X_TTCC = adjust_matrix(X_TTCC)\n",
    "\n",
    "# Shannon-jensen distance metric between two distributions                                 \n",
    "def shannon_jensen(p, q):\n",
    "    m=0.5*p+0.5*q\n",
    "    p = np.transpose(p[p > 0])\n",
    "    q = np.transpose(q[q > 0])\n",
    "    m = np.transpose(m[m > 0])\n",
    "    return np.sqrt(entropy(m)-0.5*entropy(q)-0.5*entropy(p))\n",
    "\n",
    "# Perform timing simulations\n",
    "def pairwise_dist_timing(X,nsamps,metric,seed=100,verbose=False):\n",
    "    N = np.shape(X)[0]\n",
    "    times = []\n",
    "    for i in range(len(nsamps)):\n",
    "        np.random.seed(seed)\n",
    "        ind = np.sort(np.random.choice(range(N),nsamps[i]))\n",
    "        X_samp = X[ind,:]\n",
    "        start = time.time()\n",
    "        _ = pairwise_distances(X_samp,metric=metric)\n",
    "        times.append(time.time()-start)\n",
    "        if verbose: print str(nsamps[i])+': '+str(times[i])+' s'\n",
    "    return times\n",
    "    \n",
    "nsamps = [2**(i) for i in range(9)]  \n",
    "\n",
    "# Timing for Shannon-Jensen distance\n",
    "times_Zeis = pairwise_dist_timing(X_Zeis,nsamps,shannon_jensen)\n",
    "times_Trap = pairwise_dist_timing(X_Trap,nsamps,shannon_jensen)\n",
    "times_ZTCC = pairwise_dist_timing(X_ZTCC,nsamps,shannon_jensen)\n",
    "times_TTCC = pairwise_dist_timing(X_TTCC,nsamps,shannon_jensen)\n",
    "\n",
    "# Timing for l1 distance\n",
    "times_Zeis_l1 = pairwise_dist_timing(X_Zeis,nsamps,'l1')\n",
    "times_Trap_l1 = pairwise_dist_timing(X_Trap,nsamps,'l1')\n",
    "times_ZTCC_l1 = pairwise_dist_timing(X_ZTCC,nsamps,'l1')\n",
    "times_TTCC_l1 = pairwise_dist_timing(X_TTCC,nsamps,'l1')"
   ]
  },
  {
   "cell_type": "markdown",
   "metadata": {},
   "source": [
    "Plot the clustering times."
   ]
  },
  {
   "cell_type": "code",
   "execution_count": 107,
   "metadata": {
    "collapsed": false
   },
   "outputs": [
    {
     "data": {
      "image/png": "[encoded data removed]",
      "text/plain": [
       "<matplotlib.figure.Figure at 0x7f70e4713150>"
      ]
     },
     "metadata": {},
     "output_type": "display_data"
    }
   ],
   "source": [
    "%matplotlib inline\n",
    "\n",
    "def plot_timings(xax,curve_set,curve_names,ttl,setlog=True):\n",
    "    plt.figure(figsize=(4,4))\n",
    "    for i in range(len(curve_set)):\n",
    "        plt.plot(xax,curve_set[i],label=curve_names[i],lw=3)\n",
    "#     plt.xlabel('Number of cells')\n",
    "#     plt.ylabel('Runtime (s)')\n",
    "    plt.ylim(10e-5,10e4)\n",
    "    plt.xlim(10,np.max(xax))\n",
    "    if setlog: plt.yscale('log')\n",
    "    plt.xscale('log')\n",
    "    plt.title(ttl)\n",
    "    plt.grid()\n",
    "#     plt.legend(loc=2)\n",
    "    save_name='ClustTime2'\n",
    "    if save_name is not None: plt.savefig('/data/SS_RNA_seq/Figures/'+save_name+'.eps', format='eps', dpi=900)\n",
    "    plt.show()\n",
    "    \n",
    "curve_names = ['Zeisel gene expressions (L=19972)',\n",
    "               'Trapnell trans expressions (L=47192)',\n",
    "               'Zeisel TCC (L=344224)',\n",
    "               'Trapnell TCC (L=1062819)']\n",
    "\n",
    "# plot_timings(nsamps,(times_Zeis,times_Trap,times_ZTCC,times_TTCC),curve_names,'Shannon Jensen')\n",
    "plot_timings(nsamps,(times_Zeis_l1,times_Trap_l1,times_ZTCC_l1,times_TTCC_l1),curve_names,'L1')"
   ]
  }
 ],
 "metadata": {
  "kernelspec": {
   "display_name": "Python 2",
   "language": "python",
   "name": "python2"
  },
  "language_info": {
   "codemirror_mode": {
    "name": "ipython",
    "version": 2
   },
   "file_extension": ".py",
   "mimetype": "text/x-python",
   "name": "python",
   "nbconvert_exporter": "python",
   "pygments_lexer": "ipython2",
   "version": "2.7.11"
  }
 },
 "nbformat": 4,
 "nbformat_minor": 0
}
