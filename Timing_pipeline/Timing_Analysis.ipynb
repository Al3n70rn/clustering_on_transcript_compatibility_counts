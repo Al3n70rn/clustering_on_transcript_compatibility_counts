{
 "cells": [
  {
   "cell_type": "markdown",
   "metadata": {},
   "source": [
    "# Runtime comparison of alignment/quantification methods\n",
    "\n",
    "This notebook reviews how we ran other tools and obtained Figure 3 in our paper. Before clustering cells, we need to obtain a feature vector for each cell. Each cell should have a unique feature vector, and similar cells (or cells of the same type) should have similar feature vectors. Various methods have been used to obtain this feature vector; the two types of feature vectors we looked at consisted of: \n",
    "\n",
    "* gene/transcript abundances \n",
    "* TCCs of equivalence classes\n",
    "\n",
    "Traditionally, cells have been represented using the abundances of different genes or transcripts. Tools such as eXpress quantify on aligned reads, a costly procedure done using tools such as Bowtie1 and HISAT. Therefore the runtimes of any procedure that quantifies on aligned reads are lower bounded by the alignment step. We look at the runtime of Bowtie and HISAT here.\n",
    "\n",
    "We also look at the runtime of kallisto, which consists of pseudoaligning the reads followed by quantification of transcript abundances. Because TCCs does not require the second step, a pipeline that only requires pseudoalignment is even faster. \n",
    "\n",
    "Finally we look at how long the bash command \"wc\" takes to run on the input file. This is what we assume to be the fastest possible time to go through all reads in the file once.\n",
    "\n",
    "We performing runtime analyses on the following:\n",
    "1. <a href='#section1'> Zeisel's 3005 mouse brain cells, along with the time required to get pairwise distances </a>\n",
    "2. <a href='#section2'> Trapnell's 271 primary human myoblasts </a>\n"
   ]
  },
  {
   "cell_type": "code",
   "execution_count": 47,
   "metadata": {
    "collapsed": true
   },
   "outputs": [],
   "source": [
    "# Some modules used in this notebook \n",
    "import numpy as np\n",
    "import os\n",
    "import re\n",
    "import colorsys\n",
    "import matplotlib.pyplot as plt"
   ]
  },
  {
   "cell_type": "markdown",
   "metadata": {},
   "source": [
    "## Zeisel's dataset <a id='section1'></a>\n",
    "\n",
    "Here we first compare kallisto's pseudoalignment speed to the alignment speeds of Bowtie and HISAT. We confirm that both kallisto and HISAT are orders of magnitude faster than Bowtie.\n",
    "\n",
    "The inputs to this pipeline are \n",
    "\n",
    "* path to modified kallisto\n",
    "\n",
    "* path to reference mouse transcriptoime\n",
    "\n",
    "* paths to the chromosomes of mouse genome (to be put without spaces in ./hisat_chr_path_list.txt)"
   ]
  },
  {
   "cell_type": "code",
   "execution_count": 2,
   "metadata": {
    "collapsed": true
   },
   "outputs": [],
   "source": [
    "modified_kallisto_path='/data/SS_RNA_seq/Code/kalliPso'\n",
    "mouse_reference='/data/SS_RNA_seq/Zeisel/reference_transcriptome/Mus_musculus.GRCm38.rel79.cdna.all.fa'\n",
    "\n",
    "seed=100"
   ]
  },
  {
   "cell_type": "markdown",
   "metadata": {},
   "source": [
    "Run the script. This executes and times Bowtie, HISAT, kallisto quant (original kallisto), and kallisto pseudoalign (TCC or kallisto without quantification) for ten cells. The times are saved in the appropriate folders in this directory."
   ]
  },
  {
   "cell_type": "code",
   "execution_count": 3,
   "metadata": {
    "collapsed": false
   },
   "outputs": [],
   "source": [
    "os.system('python time_test.py -k '+modified_kallisto_path+\n",
    "              ' -r '+ mouse_reference+' -h ./hisat_chr_path_list.txt -s '+str(seed))"
   ]
  },
  {
   "cell_type": "markdown",
   "metadata": {},
   "source": [
    "Load the times generated using the above script"
   ]
  },
  {
   "cell_type": "code",
   "execution_count": 43,
   "metadata": {
    "collapsed": false
   },
   "outputs": [],
   "source": [
    "with open('./TCC/time.time') as f: TCC=float(f.readline())\n",
    "with open('./bowtie1/time.time') as f: bowtie1=float(f.readline())\n",
    "with open('./hisat/time.time') as f: hisat=float(f.readline())\n",
    "with open('./wc/time.time') as f: wc=float(f.readline())"
   ]
  },
  {
   "cell_type": "markdown",
   "metadata": {
    "collapsed": true
   },
   "source": [
    "Generate the bar plot comparing the runtimes of different methods. We can also look at the runtime of the clustering algorithms. The TCC vectors are an order of magnitude larger than the gene expression vectors, and we are interested in how much of a difference this makes."
   ]
  },
  {
   "cell_type": "code",
   "execution_count": 48,
   "metadata": {
    "collapsed": false
   },
   "outputs": [
    {
     "data": {
      "image/png": "[encoded data removed]",
      "text/plain": [
       "<matplotlib.figure.Figure at 0x7fa221e43d90>"
      ]
     },
     "metadata": {},
     "output_type": "display_data"
    }
   ],
   "source": [
    "%matplotlib inline\n",
    "\n",
    "menMeans = [float(i)/60 for i in (bowtie1,hisat,TCC,wc)]\n",
    "\n",
    "file_list=['hisat_genome_time1.txt','kallipso_time.txt']\n",
    "times=np.zeros((len(file_list),1))\n",
    "cur_time=0\n",
    "for ind in range(len(file_list)):\n",
    "    with open ('../Zeisel_pipeline/'+file_list[ind]) as f:\n",
    "        for line in f:\n",
    "            line1=line.split()\n",
    "            if len(line1)==2 and (line1[0]=='user' or line1[0]=='sys'):\n",
    "                line2 = re.split(\"[ms]+\", line1[1])\n",
    "                cur_time += int(line2[0])*60 + float(line2[1])\n",
    "    times[ind]=(float(cur_time)/3600)\n",
    "    cur_time=0\n",
    "    \n",
    "menMeans = [300.5*float(menMeans[0])/60] + [i[0] for i in times.tolist()] + [300.5*float(menMeans[-1])/60]\n",
    "\n",
    "# Plot\n",
    "N=4\n",
    "HSV_tuples = [(x*1.0/N, 0.6, 0.7) for x in range(N)]\n",
    "RGB_tuples = map(lambda x: colorsys.hsv_to_rgb(*x), HSV_tuples)\n",
    "ind = np.arange(N)\n",
    "width = 0.45\n",
    "fig = plt.figure(figsize=(5,3))\n",
    "ax = fig.add_subplot(111)\n",
    "rects = ax.bar(ind, menMeans, width=0.8, color=RGB_tuples, \n",
    "               zorder=4, align='center',label='Read mapping')\n",
    "methods = ['    Bowtie \\n', '   HISAT \\n','   kallisto\\n   pseudoalign \\n',\n",
    "           '     Word Count',]\n",
    "\n",
    "rects = ax.patches\n",
    "ii = 0\n",
    "hts=map(lambda x: (\"%.2f\" % x) +' h',menMeans)\n",
    "for rect, ht in zip(rects, hts):\n",
    "    height = rect.get_height()\n",
    "    ax.text(rect.get_x() + rect.get_width()/2, height, \n",
    "            ht, ha='center', va='bottom',fontsize=11)\n",
    "    ii += 1\n",
    "\n",
    "plt.grid()\n",
    "xticks_pos = [0.65*patch.get_width() + patch.get_xy()[0] -0.2 for patch in rects]\n",
    "plt.xticks(xticks_pos, methods, ha='center', rotation=0, size=10)\n",
    "plt.ylim(0,np.max(menMeans)*1.2)\n",
    "plt.ylabel('Runtime (core-hours)',size=12)  \n",
    "\n",
    "plt.show()"
   ]
  },
  {
   "cell_type": "markdown",
   "metadata": {},
   "source": [
    "We also took a look at what happens if we ran HISAT on the human transcriptome, which is much smaller than the human genome. We expect a great improvement in runtime. HISAT's --no-splice-alignment option was used."
   ]
  },
  {
   "cell_type": "code",
   "execution_count": 49,
   "metadata": {
    "collapsed": false
   },
   "outputs": [
    {
     "data": {
      "image/png": "[encoded data removed]",
      "text/plain": [
       "<matplotlib.figure.Figure at 0x7fa221a60f10>"
      ]
     },
     "metadata": {},
     "output_type": "display_data"
    }
   ],
   "source": [
    "file_list=['../Zeisel_pipeline/hisat_full_time.txt',\n",
    "           '../Zeisel_pipeline/kallipso_time.txt']\n",
    "n = len(file_list)\n",
    "times=np.zeros((n,1))\n",
    "\n",
    "cur_time=0\n",
    "for ind in range(n):\n",
    "    with open (file_list[ind]) as f:\n",
    "        for line in f:\n",
    "            line1=line.split()\n",
    "            if len(line1)==2 and (line1[0]=='user' or line1[0]=='sys'):\n",
    "                line2 = re.split(\"[ms]+\", line1[1])\n",
    "                cur_time += int(line2[0])*60 + float(line2[1])\n",
    "    times[ind]=float(cur_time)\n",
    "    cur_time=0\n",
    "\n",
    "menMeans = np.round(times/3600)\n",
    "\n",
    "ind = np.arange(n)\n",
    "\n",
    "fig = plt.figure(figsize=(3,4))\n",
    "plt.gcf().subplots_adjust(bottom=0.3)\n",
    "ax = fig.add_subplot(111)\n",
    "rects1 = ax.bar(ind, menMeans, width=0.6, \n",
    "                color=(RGB_tuples[1],RGB_tuples[2]),zorder=4, align='center')\n",
    "methods = ['HISAT \\n align \\n(GRCm38)','kallisto \\n pseudoalign \\n(GRCm38)']\n",
    "plt.grid()\n",
    "\n",
    "plt.xticks(range(n),methods, ha='center', rotation=0, size=10)\n",
    "\n",
    "rects = ax.patches\n",
    "hts=map(lambda x: str(int(x))+' h',menMeans)\n",
    "for rect, ht in zip(rects, hts):\n",
    "    height = rect.get_height()\n",
    "    ax.text(rect.get_x() + rect.get_width()/2, height, \n",
    "            ht, ha='center', va='bottom',fontsize=11)\n",
    "plt.xlim(-0.5,n-0.5)\n",
    "plt.ylim(0,1.2*np.max(menMeans) )\n",
    "plt.ylabel('Runtime (core-hour)',size=12)\n",
    "plt.show()"
   ]
  },
  {
   "cell_type": "markdown",
   "metadata": {},
   "source": [
    "For each dataset, we expect that off-the-shelf clustering algorithms run in approximately the same time after the $n \\times n$ distance matrix is obtained, where $n$ is the number of cells (3005 for Zeisel's dataset). The bottle-neck to post-read-mapping processing is in the obtaining of the distance matrices. \n",
    "\n",
    "For Bowtie and HISAT, we obtain gene or transcript expression vectors, and therefore we find distances between length-20000 vectors. For TCC-based approaches, we find distances between length-400000 vectors. \n",
    "\n",
    "We examine how of much of a difference this makes below."
   ]
  },
  {
   "cell_type": "code",
   "execution_count": 95,
   "metadata": {
    "collapsed": false
   },
   "outputs": [
    {
     "data": {
      "image/png": "[encoded data removed]",
      "text/plain": [
       "<matplotlib.figure.Figure at 0x7ff1ed46b410>"
      ]
     },
     "metadata": {},
     "output_type": "display_data"
    }
   ],
   "source": [
    "# Time clusterings\n",
    "\n",
    "# Run times for alignment and pseudoalignment\n",
    "menMeans = [float(i)/3600 for i in (bowtie1,hisat,TCC)]\n",
    "\n",
    "# Run times for clustering\n",
    "os.system('bash time_pairwise_distances.sh')\n",
    "file_list=['time_TCC.txt','time_kallisto.txt','time_UMI.txt',\n",
    "           'time_TCC_l1.txt','time_kallisto_l1.txt','time_UMI_l1.txt']\n",
    "times=np.zeros((len(file_list),1))\n",
    "cur_time=0\n",
    "for ind in range(len(file_list)):\n",
    "    with open ('../Zeisel_pipeline/'+file_list[ind]) as f:\n",
    "        for line in f:\n",
    "            line1=line.split()\n",
    "            if len(line1)==2 and (line1[0]=='user' or line1[0]=='sys'):\n",
    "                line2 = re.split(\"[ms]+\", line1[1])\n",
    "                cur_time += int(line2[0])*60 + float(line2[1])\n",
    "    times[ind]=(float(cur_time)/3600)\n",
    "    cur_time=0\n",
    "\n",
    "# Plot\n",
    "N=len(file_list)\n",
    "HSV_tuples = [(x*1.0/N, 0.6, 0.7) for x in range(N)]\n",
    "RGB_tuples = map(lambda x: colorsys.hsv_to_rgb(*x), HSV_tuples)\n",
    "ind = np.arange(N)\n",
    "width = 0.45\n",
    "fig = plt.figure(figsize=(5,3))\n",
    "ax = fig.add_subplot(111)\n",
    "rects = ax.bar(ind, times, width=0.8, color=RGB_tuples, \n",
    "               zorder=4, align='center',label='Read mapping')\n",
    "methods = ['TCC \\n JS','trans. \\n JS','genes \\n JS',\n",
    "           'TCC \\n L1','trans. \\n L1','genes \\n L1']\n",
    "\n",
    "rects = ax.patches\n",
    "ii = 0\n",
    "hts=map(lambda x: (\"%.1f\" % x) +' h',times)\n",
    "for rect, ht in zip(rects, hts):\n",
    "    height = rect.get_height()\n",
    "    ax.text(rect.get_x() + rect.get_width()/2, height, \n",
    "            ht, ha='center', va='bottom',fontsize=11)\n",
    "    ii += 1\n",
    "\n",
    "plt.grid()\n",
    "xticks_pos = [0.65*patch.get_width() + patch.get_xy()[0] -0.2 for patch in rects]\n",
    "plt.xticks(xticks_pos, methods, ha='center', rotation=0, size=10)\n",
    "plt.ylabel('Runtime (core-hours)',size=12)    \n",
    "plt.ylim(0,1.2*np.max(times))    \n",
    "plt.show()"
   ]
  },
  {
   "cell_type": "markdown",
   "metadata": {},
   "source": [
    "Both the length and the sparsity of the vectors affect the computation time. We can look at how long and sparse each vector depending on whether TCC, transcript abundances, or gene abundances are used."
   ]
  },
  {
   "cell_type": "code",
   "execution_count": 41,
   "metadata": {
    "collapsed": false
   },
   "outputs": [
    {
     "name": "stdout",
     "output_type": "stream",
     "text": [
      "UMI genes vectors contain:\n",
      " 30735 entries,\n",
      " 6747.40399334 non-zero entries on average,\n",
      " 2485 columns that sum to 0\n",
      "kallisto transcripts vectors contain:\n",
      " 88198 entries,\n",
      " 8654.67121464 non-zero entries on average,\n",
      " 5457 columns that sum to 0\n",
      "TCC vectors contain:\n",
      " 344224 entries,\n",
      " 11804.1963394 non-zero entries on average,\n",
      " 97243 columns that sum to 0\n"
     ]
    }
   ],
   "source": [
    "method_names = ['UMI genes','kallisto transcripts','TCC']\n",
    "flnames = ['/data/SS_RNA_seq/Code/pickled/cleaned_UMI_genes_matrix_normalised_subsample100.dat',\n",
    "           '/data/SS_RNA_seq/Code/pickled/sparse_kallisto_CPM_no_bias_unnormalised_subsample100.dat',\n",
    "           '../Zeisel_pipeline/Zeisel_TCC_distribution_subsample100_full.dat']\n",
    "ii = 0\n",
    "for f in flnames:\n",
    "    i = pickle.load(file(f,'rb'))\n",
    "    print method_names[ii] + ' vectors contain:'\n",
    "    print ' '+ str(np.shape(i)[1]) + ' entries,'\n",
    "    zz = np.zeros(3005)\n",
    "    for j in range(3005):\n",
    "        if scipy.sparse.issparse(i):\n",
    "            zz[j] = (i.getrow(j) > 0).sum()\n",
    "        else:\n",
    "            zz[j] = np.sum(i[j,:] > 0)\n",
    "        zz[j] = float(zz[j])\n",
    "    print ' '+str(np.sum(zz)/3005)+' non-zero entries on average,'\n",
    "    s = 0\n",
    "    i = scipy.sparse.csc_matrix(i)\n",
    "    for j in range(np.shape(i)[1]):\n",
    "        if i.getcol(j).sum() == 0: s += 1\n",
    "    print ' '+str(s)+' columns that sum to 0'\n",
    "    ii += 1"
   ]
  },
  {
   "cell_type": "markdown",
   "metadata": {},
   "source": [
    "## Trapnell's dataset <a id='section2'></a>\n",
    "\n",
    "To confirm kallisto's pseudoalignment speed over hisat's alignment speed, we re-ran kallisto and HISAT on Trapnell's dataset. Unlike Zeisel's dataset, reads from Trapnell's dataset come from various locations within the transcript rather than just the beginning of the transcript (where the UMI would be). \n",
    "\n",
    "We ran HISAT using both the entire human genome (hg19) and using just the human transcriptome (GRCh38). For the latter, we used the \"--no-splice-alignment\" option."
   ]
  },
  {
   "cell_type": "code",
   "execution_count": 108,
   "metadata": {
    "collapsed": false
   },
   "outputs": [
    {
     "data": {
      "image/png": "[encoded data removed]",
      "text/plain": [
       "<matplotlib.figure.Figure at 0x7ff1ed3e4850>"
      ]
     },
     "metadata": {},
     "output_type": "display_data"
    }
   ],
   "source": [
    "file_list=['../Trapnell_pipeline/hisat_transcriptome_pseudo_time.txt',\n",
    "           '../Trapnell_pipeline/kallisto_time.txt']\n",
    "n = len(file_list)\n",
    "times=np.zeros((n,1))\n",
    "\n",
    "cur_time=0\n",
    "for ind in range(n):\n",
    "    with open (file_list[ind]) as f:\n",
    "        for line in f:\n",
    "            line1=line.split()\n",
    "            if len(line1)==2 and (line1[0]=='user' or line1[0]=='sys'):\n",
    "                line2 = re.split(\"[ms]+\", line1[1])\n",
    "                cur_time += int(line2[0])*60 + float(line2[1])\n",
    "    times[ind]=float(cur_time)\n",
    "    cur_time=0\n",
    "\n",
    "menMeans = np.round(times/3600)\n",
    "\n",
    "ind = np.arange(n)\n",
    "\n",
    "fig = plt.figure(figsize=(3,4))\n",
    "plt.gcf().subplots_adjust(bottom=0.3)\n",
    "ax = fig.add_subplot(111)\n",
    "rects1 = ax.bar(ind, menMeans, width=0.6, \n",
    "                color=(RGB_tuples[1],RGB_tuples[2]),zorder=4, align='center')\n",
    "methods = ['HISAT \\n align \\n(GRCh38)','kallisto \\n pseudoalign \\n(GRCh38)']\n",
    "plt.grid()\n",
    "\n",
    "plt.xticks(range(n),methods, ha='center', rotation=0, size=10)\n",
    "\n",
    "rects = ax.patches\n",
    "hts=map(lambda x: str(int(x))+' h',menMeans)\n",
    "for rect, ht in zip(rects, hts):\n",
    "    height = rect.get_height()\n",
    "    ax.text(rect.get_x() + rect.get_width()/2, height, \n",
    "            ht, ha='center', va='bottom',fontsize=11)\n",
    "plt.xlim(-0.5,n-0.5)\n",
    "plt.ylim(0,1.2*np.max(menMeans) )\n",
    "plt.ylabel('Runtime (core-hour)',size=12)\n",
    "plt.show()"
   ]
  }
 ],
 "metadata": {
  "kernelspec": {
   "display_name": "Python 2",
   "language": "python",
   "name": "python2"
  },
  "language_info": {
   "codemirror_mode": {
    "name": "ipython",
    "version": 2
   },
   "file_extension": ".py",
   "mimetype": "text/x-python",
   "name": "python",
   "nbconvert_exporter": "python",
   "pygments_lexer": "ipython2",
   "version": "2.7.11"
  }
 },
 "nbformat": 4,
 "nbformat_minor": 0
}
