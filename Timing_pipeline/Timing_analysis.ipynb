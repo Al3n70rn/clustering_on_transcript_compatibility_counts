{
 "cells": [
  {
   "cell_type": "code",
   "execution_count": 10,
   "metadata": {
    "collapsed": true
   },
   "outputs": [],
   "source": [
    "import numpy as np\n",
    "import os\n",
    "import colorsys\n",
    "import matplotlib.pyplot as plt"
   ]
  },
  {
   "cell_type": "markdown",
   "metadata": {},
   "source": [
    "The inputs to this pipeline are \n",
    "\n",
    "* path to modified kallisto\n",
    "\n",
    "* path to reference mouse transcriptoime\n",
    "\n",
    "* paths to the chromosomes of mouse genome (to be put without spaces in ./hisat_chr_path_list.txt)"
   ]
  },
  {
   "cell_type": "code",
   "execution_count": 18,
   "metadata": {
    "collapsed": true
   },
   "outputs": [],
   "source": [
    "modified_kallisto_path='/data/SS_RNA_seq/Code/kalliPso'\n",
    "mouse_reference='/data/SS_RNA_seq/Zeisel/reference_transcriptome/Mus_musculus.GRCm38.rel79.cdna.all.fa'"
   ]
  },
  {
   "cell_type": "markdown",
   "metadata": {},
   "source": [
    "Run the script"
   ]
  },
  {
   "cell_type": "code",
   "execution_count": 21,
   "metadata": {
    "collapsed": false
   },
   "outputs": [
    {
     "data": {
      "text/plain": [
       "0"
      ]
     },
     "execution_count": 21,
     "metadata": {},
     "output_type": "execute_result"
    }
   ],
   "source": [
    "os.system('python time_test.py -k '+modified_kallisto_path+' -r '+ mouse_reference+' -h ./hisat_chr_path_list.txt')"
   ]
  },
  {
   "cell_type": "code",
   "execution_count": 22,
   "metadata": {
    "collapsed": false
   },
   "outputs": [],
   "source": [
    "with open('/data/SS_RNA_seq/Code/clustering_on_reads/Timing_pipeline/TCC/time.time') as f:\n",
    "    TCC=float(f.readline())\n",
    "with open('/data/SS_RNA_seq/Code/clustering_on_reads/Timing_pipeline/bowtie1/time.time') as f:\n",
    "    bowtie1=float(f.readline())\n",
    "with open('/data/SS_RNA_seq/Code/clustering_on_reads/Timing_pipeline/hisat/time.time') as f:\n",
    "    hisat=float(f.readline())\n",
    "with open('/data/SS_RNA_seq/Code/clustering_on_reads/Timing_pipeline/kallisto/time.time') as f:\n",
    "    kallisto=float(f.readline())\n",
    "with open('/data/SS_RNA_seq/Code/clustering_on_reads/Timing_pipeline/wc/time.time') as f:\n",
    "    wc=float(f.readline())"
   ]
  },
  {
   "cell_type": "code",
   "execution_count": 23,
   "metadata": {
    "collapsed": false
   },
   "outputs": [
    {
     "data": {
      "image/png": "[encoded data removed]",
      "text/plain": [
       "<matplotlib.figure.Figure at 0x7fe9232fa750>"
      ]
     },
     "metadata": {},
     "output_type": "display_data"
    }
   ],
   "source": [
    "%matplotlib inline\n",
    "N = 5\n",
    "N_sets = N\n",
    "HSV_tuples = [(x*1.0/N_sets, 0.6, 0.7) for x in range(N_sets)]\n",
    "RGB_tuples = map(lambda x: colorsys.hsv_to_rgb(*x), HSV_tuples)\n",
    "\n",
    "menMeans = ( bowtie1, hisat, kallisto,TCC,wc)\n",
    "\n",
    "ind = np.arange(N)  # the x locations for the groups\n",
    "width = 0.45       # the width of the bars\n",
    "\n",
    "fig, ax = plt.subplots()\n",
    "plt.gcf().subplots_adjust(bottom=0.3)\n",
    "rects1 = ax.bar(ind, menMeans, width=0.8, color=RGB_tuples,zorder=4, align='center')\n",
    "methods = [' Bowtie', '   HISAT','   Kallisto\\n   Quant','   Kallisto\\n    Pseudoalign','    WordCount']\n",
    "plt.grid()\n",
    "\n",
    "\n",
    "xticks_pos = [0.65*patch.get_width() + patch.get_xy()[0] -0.2 for patch in rects1]\n",
    "plt.xticks(xticks_pos, methods, ha='center', rotation=0, size=10)\n",
    "\n",
    "rects = ax.patches\n",
    "hts=map(lambda x: str(int(x))+' s',menMeans)\n",
    "for rect, ht in zip(rects, hts):\n",
    "    height = rect.get_height()\n",
    "    ax.text(rect.get_x() + rect.get_width()/2, height + 5, ht, ha='center', va='bottom',fontsize=11)\n",
    "\n",
    "plt.ylabel('Runtime (seconds)',size=12)\n",
    "\n",
    "save_name = 'runtimes' \n",
    "plt.show()"
   ]
  }
 ],
 "metadata": {
  "kernelspec": {
   "display_name": "Python 2",
   "language": "python",
   "name": "python2"
  },
  "language_info": {
   "codemirror_mode": {
    "name": "ipython",
    "version": 2
   },
   "file_extension": ".py",
   "mimetype": "text/x-python",
   "name": "python",
   "nbconvert_exporter": "python",
   "pygments_lexer": "ipython2",
   "version": "2.7.11"
  }
 },
 "nbformat": 4,
 "nbformat_minor": 0
}
