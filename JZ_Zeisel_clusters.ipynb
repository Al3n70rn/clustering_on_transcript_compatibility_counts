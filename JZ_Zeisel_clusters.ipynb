{
 "cells": [
  {
   "cell_type": "markdown",
   "metadata": {},
   "source": [
    "# Extracting Zeisel's Clusters\n",
    "\n",
    "Zeisel et al clustered 3005 mouse brain cells into 9 major categories and 47 total subcategories. The purpose of this notebook is to extract visualize and process cells corresponding to a subset of these labels. <br>\n",
    "1. From a set of desired labels, extract the corresponding rows in the data matrix, columns and rows of the distance matrix, and rows of the label matrix.\n",
    "2. Spectral clustering and t-SNE on these truncated matrices. \n",
    "3. After selecting cells, run tophat + cufflinks to obtain a gene expression matrix (mouse transcriptome as ref)."
   ]
  },
  {
   "cell_type": "code",
   "execution_count": 2,
   "metadata": {
    "collapsed": true
   },
   "outputs": [],
   "source": [
    "import numpy as np\n",
    "import matplotlib.pyplot as plt\n",
    "import pickle\n",
    "from sklearn.decomposition import NMF\n",
    "from sklearn.decomposition import PCA\n",
    "from sklearn import manifold\n",
    "from sklearn import cluster\n",
    "import sklearn.metrics\n",
    "from sklearn.metrics.pairwise import pairwise_distances\n",
    "from scipy.stats import entropy\n",
    "from numpy.linalg import pinv\n",
    "import operator\n",
    "import itertools\n",
    "import networkx as nx\n",
    "from networkx.algorithms import bipartite\n",
    "from sklearn.cluster.bicluster import SpectralCoclustering\n",
    "from sklearn.cluster import AgglomerativeClustering\n",
    "import matplotlib.pyplot as plt\n",
    "from scipy.sparse import csr_matrix\n",
    "from scipy.cluster.hierarchy import *\n",
    "import scipy.spatial.distance as ssd\n",
    "import scipy\n",
    "import colorsys"
   ]
  },
  {
   "cell_type": "code",
   "execution_count": 350,
   "metadata": {
    "collapsed": false
   },
   "outputs": [],
   "source": [
    "# Functions that are helpful for analysis\n",
    "\n",
    "# obtain labels via spectral clustering\n",
    "def jz_spectral(X,k,D):\n",
    "    # Compute pairwise distances\n",
    "    #D = pairwise_distances(X,metric=dist_funct,n_jobs=nj)\n",
    "    if D[1,1] < 1: D = np.exp(-D**2) # Convert distance to similarity matrix\n",
    "    spectral = cluster.SpectralClustering(n_clusters=k,affinity='precomputed')\n",
    "    spectral.fit(D)\n",
    "    labels = spectral.labels_\n",
    "    return labels\n",
    "\n",
    "# Distance metrics (input: X with m samples, output: m-by-m distance matrix)\n",
    "def shannon_jensen(p, q):\n",
    "    m=0.5*p+0.5*q\n",
    "    p = np.transpose(p[p > 0])\n",
    "    q = np.transpose(q[q > 0])\n",
    "    m = np.transpose(m[m > 0])\n",
    "    return np.sqrt(entropy(m)-0.5*entropy(q)-0.5*entropy(p))\n",
    "\n",
    "# obtain two major directions from t-SNE\n",
    "def tSNE_pairwise(D):\n",
    "    tsne = manifold.TSNE(n_components=2, random_state=0, metric='precomputed', n_iter=2000);\n",
    "    X_tsne = tsne.fit_transform(D);\n",
    "    return X_tsne\n",
    "\n",
    "# Plot function with colors corresponding to labels (first two columns of X)\n",
    "def jz_plot(X,labels):\n",
    "    unique_labels = np.unique(labels)\n",
    "    plt.figure(figsize=(15,10))\n",
    "    for label in unique_labels:\n",
    "        ind = np.squeeze(labels == label)\n",
    "        plt.scatter(X[ind,0],X[ind,1],c=np.random.rand(3))\n",
    "\n",
    "#Compute the error rates of two classification schemes.\n",
    "#Rather than going over m! possibilities where m is the number of classes\n",
    "#this uses the heuristic of comparing the i th largest cluster of on labeling scheme\n",
    "#with the i th largest cluster of the other labelling scheme\n",
    "def compare_labels(label1, label2):\n",
    "    # quality control.. make sure inputs are np arrays and their lengths are equal\n",
    "    nplabel1=np.array(label1)\n",
    "    nplabel2=np.array(label2)\n",
    "    assert len(label1)==len(label2)\n",
    "    unique_labels1=np.unique(nplabel1)\n",
    "    unique_labels2=np.unique(nplabel2)\n",
    "    # Create two dictionaries that count the number of each unique label in the two label sets\n",
    "    num_entries1={}\n",
    "    num_entries2={}\n",
    "    for label in unique_labels1:\n",
    "        num_entries1[label] = len(nplabel1[nplabel1==label])\n",
    "    for label in unique_labels2:\n",
    "        num_entries2[label] = len(nplabel2[nplabel2==label])\n",
    "    sorted_label1 = sorted(num_entries1.items(), key=operator.itemgetter(1))\n",
    "    sorted_label2 = sorted(num_entries2.items(), key=operator.itemgetter(1))\n",
    "    # Find and return the sum of the differences between the ith largest labelings for label1, label2\n",
    "    difference=0\n",
    "    for index in xrange(len(sorted_label1)):\n",
    "         set1= set(np.flatnonzero(nplabel1==sorted_label1[index][0]))\n",
    "         set2= set(np.flatnonzero(nplabel2==sorted_label2[index][0]))\n",
    "         difference+=len(set1.symmetric_difference(set2))\n",
    "    return difference/2\n",
    "\n",
    "#gets max weight matching of a biparetite graph with row_label x column_label\n",
    "#where the weight is given by the weight_matrix\n",
    "def get_max_wt_matching(row_label,column_label, weight_matrix):\n",
    "    # Create a bipartite graph where each group has |unique labels| nodes\n",
    "    G = nx.complete_bipartite_graph(len(row_label), len(column_label))\n",
    "    # Weight each edge by the weight in weight  matrix.. \n",
    "    for u,v in G.edges():\n",
    "        G[u][v][\"weight\"]=weight_matrix[u,v-len(row_label)]\n",
    "    # Perform weight matching using Kuhn Munkres\n",
    "    H=nx.max_weight_matching(G)\n",
    "    max_wt=0\n",
    "    for u,v in H.items():\n",
    "        max_wt+=G[u][v][\"weight\"]/float(2)\n",
    "    return max_wt\n",
    "\n",
    "#Plot heatmap\n",
    "def get_heatmap(data_matrix, row_labels, column_labels, ttl):\n",
    "    plt_shape = (int(data_matrix.shape[0]*.5),data_matrix.shape[1]*.5)\n",
    "    fig, ax = plt.subplots(figsize=plt_shape)\n",
    "    heatmap = ax.pcolor(data_matrix, cmap=plt.cm.Blues)\n",
    "    # put the major ticks at the middle of each cell\n",
    "    ax.set_xticks(np.arange(data_matrix.shape[0])+0.5, minor=False)\n",
    "    ax.set_yticks(np.arange(data_matrix.shape[1])+0.5, minor=False)\n",
    "    # want a more natural, table-like display\n",
    "    ax.invert_yaxis()\n",
    "    ax.xaxis.tick_top()\n",
    "    ax.set_xticklabels(row_labels, minor=False)\n",
    "    ax.set_yticklabels(column_labels, minor=False)\n",
    "    plt.title(ttl+\"\\n\",fontsize=14)\n",
    "    plt.colorbar(heatmap)\n",
    "    plt.show()\n",
    "    \n",
    "def analyse_labeling_schemes(label1, label2):\n",
    "    # quality control.. make sure inputs are np arrays and their lengths are equal\n",
    "    nplabel1=np.array(label1)\n",
    "    nplabel2=np.array(label2)\n",
    "    assert len(label1)==len(label2)\n",
    "    unique_labels1=np.unique(nplabel1)\n",
    "    unique_labels2=np.unique(nplabel2)\n",
    "    # Create two dictionaries. Each will store the indices of each label\n",
    "    entries1={}\n",
    "    entries2={}\n",
    "    for label in unique_labels1:\n",
    "        entries1[label] = set(np.flatnonzero((nplabel1==label)))\n",
    "    for label in unique_labels2:\n",
    "        entries2[label] = set(np.flatnonzero((nplabel2==label)))\n",
    "    # Create an intersection matrix which counts the number of entries that overlap for each label combination\n",
    "    intersection_matrix=np.zeros((len(unique_labels1),len(unique_labels2)))\n",
    "    for ind1,ind2 in itertools.product(range(len(unique_labels1)),range(len(unique_labels2))):\n",
    "        intersection_matrix[ind1,ind2]=len(entries1[unique_labels1[ind1]].\n",
    "                                               intersection(entries2[unique_labels2[ind2]]))\n",
    "    # Plot a heatmap of the intersection matrix\n",
    "   \n",
    "    fig, ax = plt.subplots(figsize=(int(intersection_matrix.shape[1]),int(intersection_matrix.shape[0]*0.5)))\n",
    "    heatmap=ax.pcolor((intersection_matrix).transpose(),cmap=plt.cm.bone_r)\n",
    "    ax.set_xticks(np.arange(intersection_matrix.shape[0])+0.5, minor=False)\n",
    "    ax.set_yticks(np.arange(intersection_matrix.shape[1])+0.5, minor=False)\n",
    "    ax.invert_yaxis()\n",
    "    ax.xaxis.tick_top()\n",
    "    ax.set_xticklabels(unique_labels1, minor=False,fontsize=15)\n",
    "    ax.set_yticklabels(unique_labels2, minor=False,fontsize=40)\n",
    "    plt.colorbar(heatmap)\n",
    "    plt.show()\n",
    "    \n",
    "    \n",
    "    get_heatmap(intersection_matrix, unique_labels1, unique_labels2, \n",
    "                'Unnormalised heatmap of intersection of labels')\n",
    "    #get_heatmap(intersection_matrix/intersection_matrix.sum(axis=0), \n",
    "     #           unique_labels1, unique_labels2, \n",
    "     #          'Heatmap of intersection of labels normalised by labels along columns')\n",
    "    #get_heatmap((intersection_matrix.T/intersection_matrix.sum(axis=1)).T, \n",
    "     #           unique_labels1, unique_labels2,\n",
    "     #          'Heatmap of intersection of labels normalised by labels along rows')\n",
    "    # Print various error rates\n",
    "    print \"Error rates if best cluster index is picked row-wise : \" + str(\n",
    "        (1- sum(np.max(intersection_matrix, axis=0))/float(len(label1)))*100) + \"%.\"\n",
    "    print \"Error rates if best cluster index is picked column-wise : \" + str(\n",
    "        (1- sum(np.max(intersection_matrix, axis=1))/float(len(label1)))*100) + \"%.\"\n",
    "    print \"Error rates if best cluster index is picked using the Hungarian Algorithm : \" + str(\n",
    "        (1- get_max_wt_matching(unique_labels1,\n",
    "                                unique_labels2,intersection_matrix)\n",
    "         /float(len(label1)))*100) + \"%.\"\n",
    "    \n",
    "def jz_analyse_labeling_schemes(label1, label2):\n",
    "    # quality control.. make sure inputs are np arrays and their lengths are equal\n",
    "    nplabel1=np.array(label1)\n",
    "    nplabel2=np.array(label2)\n",
    "    assert len(label1)==len(label2)\n",
    "    unique_labels1=np.unique(nplabel1)\n",
    "    unique_labels2=np.unique(nplabel2)\n",
    "    # Create two dictionaries. Each will store the indices of each label\n",
    "    entries1={}\n",
    "    entries2={}\n",
    "    for label in unique_labels1:\n",
    "        entries1[label] = set(np.flatnonzero((nplabel1==label)))\n",
    "    for label in unique_labels2:\n",
    "        entries2[label] = set(np.flatnonzero((nplabel2==label)))\n",
    "    # Create an intersection matrix which counts the number of entries that overlap for each label combination\n",
    "    intersection_matrix=np.zeros((len(unique_labels1),len(unique_labels2)))\n",
    "    for ind1,ind2 in itertools.product(range(len(unique_labels1)),range(len(unique_labels2))):\n",
    "        intersection_matrix[ind1,ind2]=len(entries1[unique_labels1[ind1]].\n",
    "                                               intersection(entries2[unique_labels2[ind2]]))\n",
    "    # Print various error rates\n",
    "    return (1- sum(np.max(intersection_matrix, axis=0))/float(len(label1)))*100,(1- sum(np.max(intersection_matrix, axis=1))/float(len(label1)))*100, (1- get_max_wt_matching(unique_labels1,unique_labels2,intersection_matrix)/float(len(label1)))*100  \n",
    "\n",
    "def vn_AffinityProp(D):\n",
    "    aff= cluster.AffinityPropagation(affinity='precomputed')\n",
    "    labels=aff.fit_predict(D)\n",
    "    return labels\n",
    "# Plot function with Zeisel colors corresponding to labels (first two columns of X)\n",
    "def tru_plot9(X,labels,tru_color,name_of_clustID):\n",
    "    \n",
    "    unique_labels = np.unique(labels)\n",
    "    plt.figure(figsize=(15,10))\n",
    "    for label in unique_labels:\n",
    "        ind = np.squeeze(labels == label)\n",
    "        plt.scatter(X[ind,0],X[ind,1],\n",
    "                    c=tru_color[label.astype(int)],s=36,\n",
    "                    edgecolors='gray',lw = 0.5, label=name_of_clustID[label.astype(int)])        \n",
    "    plt.legend(loc='upper right',bbox_to_anchor=(1.1, 1))"
   ]
  },
  {
   "cell_type": "code",
   "execution_count": 71,
   "metadata": {
    "collapsed": false
   },
   "outputs": [
    {
     "name": "stdout",
     "output_type": "stream",
     "text": [
      "(3005, 342812)\n",
      "(3005, 3005)\n",
      "(3005, 19972)\n",
      "(3005, 3005)\n",
      "(3005,)\n",
      "['1' '2' '3' '4' '5' '6' '7' '8' '9']\n",
      "(3005,)\n",
      "['(none)' 'Astro1' 'Astro2' 'CA1Pyr1' 'CA1Pyr2' 'CA1PyrInt' 'CA2Pyr2'\n",
      " 'Choroid' 'ClauPyr' 'Epend' 'Int1' 'Int10' 'Int11' 'Int12' 'Int13' 'Int14'\n",
      " 'Int15' 'Int16' 'Int2' 'Int3' 'Int4' 'Int5' 'Int6' 'Int7' 'Int8' 'Int9'\n",
      " 'Mgl1' 'Mgl2' 'Oligo1' 'Oligo2' 'Oligo3' 'Oligo4' 'Oligo5' 'Oligo6'\n",
      " 'Peric' 'Pvm1' 'Pvm2' 'S1PyrDL' 'S1PyrL23' 'S1PyrL4' 'S1PyrL5' 'S1PyrL5a'\n",
      " 'S1PyrL6' 'S1PyrL6b' 'SubPyr' 'Vend1' 'Vend2' 'Vsmc']\n"
     ]
    }
   ],
   "source": [
    "# Load EC data\n",
    "with open('/data/SS_RNA_seq/Code/sparse_eq_class.dat', 'rb') as infile:\n",
    "    X_ec = pickle.load(infile)\n",
    "with open('/data/SS_RNA_seq/Code/pairwise_jensen_shannon_divergence.dat', 'rb') as infile:\n",
    "    D_ec = pickle.load(infile)\n",
    "    \n",
    "# Load gene expression data\n",
    "with open('/data/SS_RNA_seq/Code/Zeisel_pairwise_gene_expression.dat','rb') as infile:\n",
    "    X_gene = pickle.load(infile)\n",
    "with open('/data/SS_RNA_seq/Code/pairwise_jensen_shannon_gene_expression3', 'rb') as infile:\n",
    "    D_gene = pickle.load(infile)\n",
    "    \n",
    "# Load truth labels    \n",
    "truth_9 = np.loadtxt('/data/SS_RNA_seq/Code/clustering_on_reads/Zeisel_metadata/cell_group_num_3005.txt',dtype=str)\n",
    "truth_47 = np.loadtxt('/data/SS_RNA_seq/Code/clustering_on_reads/Zeisel_metadata/cell_subclass_3005.txt',dtype=str)\n",
    "\n",
    "# Sanity check\n",
    "print np.shape(X_ec)\n",
    "print np.shape(D_ec)\n",
    "print np.shape(X_gene)\n",
    "print np.shape(D_gene)\n",
    "print np.shape(truth_9)\n",
    "print np.unique(truth_9)\n",
    "print np.shape(truth_47)\n",
    "print np.unique(truth_47)"
   ]
  },
  {
   "cell_type": "code",
   "execution_count": 166,
   "metadata": {
    "collapsed": true
   },
   "outputs": [],
   "source": [
    "# Get indices for a certain subset of labels\n",
    "def get_indices_for_subset(labels,subsets):\n",
    "    np.random.seed(0)\n",
    "    min_count = 25#min([np.sum(labels == i) for i in subsets])\n",
    "    indices = []\n",
    "    for label in subsets:\n",
    "        # randomly choose (without replacement) samples such that sizes of labels match\n",
    "        temp = np.where(labels == label)[0]\n",
    "        indices.append(np.random.choice(temp,min_count,replace=False))\n",
    "    return np.sort(np.concatenate(indices))\n",
    "\n",
    "# Truncate data using subset of labels\n",
    "def truncate_data(labels,subsets,X,D):\n",
    "    ind = get_indices_for_subset(labels,subsets)\n",
    "    return X[ind,:],D[np.ix_(ind,ind)],labels[ind]"
   ]
  },
  {
   "cell_type": "code",
   "execution_count": 167,
   "metadata": {
    "collapsed": false
   },
   "outputs": [],
   "source": [
    "# Select desired labels (put label names in \"subsets\")\n",
    "subsets = ['3','4']\n",
    "labels = truth_9\n",
    "Xt_ec,  Dt_ec,  Lt_ec   = truncate_data(labels,subsets,X_ec,D_ec)\n",
    "Xt_gene,Dt_gene,Lt_gene = truncate_data(np.sort(labels),subsets,X_gene,D_gene)"
   ]
  },
  {
   "cell_type": "code",
   "execution_count": 292,
   "metadata": {
    "collapsed": false,
    "scrolled": false
   },
   "outputs": [
    {
     "data": {
      "text/plain": [
       "<matplotlib.text.Text at 0x7f3184e229d0>"
      ]
     },
     "execution_count": 292,
     "metadata": {},
     "output_type": "execute_result"
    },
    {
     "data": {
      "image/png": "[encoded data removed]",
      "text/plain": [
       "<matplotlib.figure.Figure at 0x7f3184fc5f90>"
      ]
     },
     "metadata": {},
     "output_type": "display_data"
    },
    {
     "data": {
      "image/png": "[encoded data removed]",
      "text/plain": [
       "<matplotlib.figure.Figure at 0x7f318525c110>"
      ]
     },
     "metadata": {},
     "output_type": "display_data"
    },
    {
     "data": {
      "image/png": "[encoded data removed]",
      "text/plain": [
       "<matplotlib.figure.Figure at 0x7f31853c80d0>"
      ]
     },
     "metadata": {},
     "output_type": "display_data"
    },
    {
     "data": {
      "image/png": "[encoded data removed]",
      "text/plain": [
       "<matplotlib.figure.Figure at 0x7f3184e1b890>"
      ]
     },
     "metadata": {},
     "output_type": "display_data"
    }
   ],
   "source": [
    "# Spectral clustering\n",
    "%matplotlib inline\n",
    "spect_labels_ec = jz_spectral(Xt_ec,len(subsets),Dt_ec)\n",
    "Xt_ec_tSNE = tSNE_pairwise(Dt_ec)\n",
    "jz_plot(Xt_ec_tSNE,spect_labels_ec)\n",
    "plt.title('cells labeled by spectral clustering (ECs)')\n",
    "jz_plot(Xt_ec_tSNE,Lt_ec)\n",
    "plt.title('cells labeled by authors (ECs)')\n",
    "\n",
    "spect_gene_labels = jz_spectral(Xt_gene,len(subsets),Dt_gene)\n",
    "Xt_gene_tSNE = tSNE_pairwise(Dt_gene)\n",
    "jz_plot(Xt_gene_tSNE,spect_gene_labels)\n",
    "plt.title('cells labeled by spectral clustering (genes)')\n",
    "jz_plot(Xt_gene_tSNE,Lt_gene)\n",
    "plt.title('cells labeled by authors (genes)')\n"
   ]
  },
  {
   "cell_type": "code",
   "execution_count": 293,
   "metadata": {
    "collapsed": false
   },
   "outputs": [
    {
     "data": {
      "image/png": "[encoded data removed]",
      "text/plain": [
       "<matplotlib.figure.Figure at 0x7f3185219610>"
      ]
     },
     "metadata": {},
     "output_type": "display_data"
    },
    {
     "data": {
      "image/png": "[encoded data removed]",
      "text/plain": [
       "<matplotlib.figure.Figure at 0x7f318566d2d0>"
      ]
     },
     "metadata": {},
     "output_type": "display_data"
    },
    {
     "name": "stdout",
     "output_type": "stream",
     "text": [
      "Error rates if best cluster index is picked row-wise : 2.08333333333%.\n",
      "Error rates if best cluster index is picked column-wise : 2.08333333333%.\n",
      "Error rates if best cluster index is picked using the Hungarian Algorithm : 2.08333333333%.\n"
     ]
    }
   ],
   "source": [
    "analyse_labeling_schemes(Lt_ec,spect_labels_ec)"
   ]
  },
  {
   "cell_type": "markdown",
   "metadata": {},
   "source": [
    "# Run TopHat, Cufflinks on selected cells "
   ]
  },
  {
   "cell_type": "code",
   "execution_count": 181,
   "metadata": {
    "collapsed": false
   },
   "outputs": [
    {
     "name": "stdout",
     "output_type": "stream",
     "text": [
      "['SRR1544919.fastq.gz' 'SRR1545031.fastq.gz' 'SRR1545067.fastq.gz'\n",
      " 'SRR1545107.fastq.gz' 'SRR1545111.fastq.gz' 'SRR1545145.fastq.gz'\n",
      " 'SRR1545287.fastq.gz' 'SRR1545324.fastq.gz' 'SRR1545359.fastq.gz'\n",
      " 'SRR1545593.fastq.gz' 'SRR1545651.fastq.gz' 'SRR1545731.fastq.gz'\n",
      " 'SRR1546122.fastq.gz' 'SRR1546178.fastq.gz' 'SRR1546190.fastq.gz'\n",
      " 'SRR1546444.fastq.gz' 'SRR1546513.fastq.gz' 'SRR1546530.fastq.gz'\n",
      " 'SRR1546619.fastq.gz' 'SRR1546643.fastq.gz' 'SRR1546665.fastq.gz'\n",
      " 'SRR1546784.fastq.gz' 'SRR1546831.fastq.gz' 'SRR1546843.fastq.gz'\n",
      " 'SRR1546901.fastq.gz' 'SRR1546964.fastq.gz' 'SRR1546993.fastq.gz'\n",
      " 'SRR1547069.fastq.gz' 'SRR1547089.fastq.gz' 'SRR1547179.fastq.gz'\n",
      " 'SRR1547187.fastq.gz' 'SRR1547240.fastq.gz' 'SRR1547241.fastq.gz'\n",
      " 'SRR1547241.fastq.gz' 'SRR1547244.fastq.gz' 'SRR1547295.fastq.gz'\n",
      " 'SRR1547296.fastq.gz' 'SRR1547355.fastq.gz' 'SRR1547384.fastq.gz'\n",
      " 'SRR1547436.fastq.gz' 'SRR1547533.fastq.gz' 'SRR1547568.fastq.gz'\n",
      " 'SRR1547568.fastq.gz' 'SRR1547661.fastq.gz' 'SRR1547668.fastq.gz'\n",
      " 'SRR1547728.fastq.gz' 'SRR1547749.fastq.gz' 'SRR1547803.fastq.gz'\n",
      " 'SRR1547847.fastq.gz' 'SRR1548055.fastq.gz']\n"
     ]
    }
   ],
   "source": [
    "import os\n",
    "files = np.array(sorted(os.listdir('/data/SS_RNA_seq/Zeisel/read_data_3005')))\n",
    "selected = files[get_indices_for_subset(labels,subsets)]\n",
    "print selected"
   ]
  },
  {
   "cell_type": "code",
   "execution_count": 230,
   "metadata": {
    "collapsed": false
   },
   "outputs": [],
   "source": [
    "# Run TopHat on each of selected cells\n",
    "import multiprocessing as mp\n",
    "\n",
    "def run_tophat(flname):\n",
    "    index = '/data/SS_RNA_seq/Zeisel/reference_transcriptome/Mus_musculus.GRCm38.rel79.cdna.all'\n",
    "    num = flname.split('/')[4].split('sample')[1]\n",
    "    THout = '/data/SS_RNA_seq/Zeisel/tophat_subsample' + num + '/' + flname.split('/')[5].split('.')[0]\n",
    "    os.system('mkdir -p ' + THout)\n",
    "    THcmd = 'tophat -o ' + THout + ' ' + index + ' ' + flname\n",
    "    os.system(THcmd)\n",
    "    CLcmd = 'cufflinks -o ' + THout + ' ' + THout + '/accepted_hits.bam'\n",
    "    os.system(CLcmd)\n",
    "\n",
    "#for i in ['1','5','10','30','50','70','90']:    \n",
    "for i in ['10']:\n",
    "    fldir = '/data/SS_RNA_seq/Zeisel/read_data_subsample'+i\n",
    "    files = [fldir+'/'+f for f in selected]\n",
    "    pool = mp.Pool(processes = 50)\n",
    "    pool.map(run_tophat,files)"
   ]
  },
  {
   "cell_type": "code",
   "execution_count": 348,
   "metadata": {
    "collapsed": false
   },
   "outputs": [
    {
     "name": "stdout",
     "output_type": "stream",
     "text": [
      "SRR1546964\n",
      "SRR1547241\n"
     ]
    }
   ],
   "source": [
    "# Obtain gene expression matrix for each of the samples sizes\n",
    "\n",
    "#for i in ['1','5','10','30','50','70','90']:    \n",
    "for i in ['10']:\n",
    "    dict = {}\n",
    "    files = np.array(sorted(os.listdir('/data/SS_RNA_seq/Zeisel/tophat_subsample'+i)))\n",
    "    \n",
    "    # First pass: get all unique genes\n",
    "    count = 0\n",
    "    for f in files:\n",
    "        fo = open('/data/SS_RNA_seq/Zeisel/tophat_subsample'+i+'/'+f+'/transcripts.gtf')\n",
    "        for line in fo:\n",
    "            temp = line.split('\\t')\n",
    "            if temp[2] == 'transcript':\n",
    "                key = temp[0]\n",
    "                if key not in dict: \n",
    "                    dict[key] = count\n",
    "                    count += 1\n",
    "    \n",
    "    # Second pass: Count nubmer of unique genes\n",
    "    gene_abundances = np.zeros([len(files),len(dict)]);\n",
    "    cell_ind = 0\n",
    "    for f in files:\n",
    "        fo = open('/data/SS_RNA_seq/Zeisel/tophat_subsample'+i+'/'+f+'/transcripts.gtf')\n",
    "        for line in fo:\n",
    "            temp = line.split('\\t')\n",
    "            if temp[2] == 'transcript':\n",
    "                key = temp[0]\n",
    "                temp = temp[8].split(';')\n",
    "                quant = float(temp[2][7:-1])\n",
    "                gene_abundances[cell_ind,dict[key]] += quant\n",
    "        cell_ind += 1"
   ]
  },
  {
   "cell_type": "code",
   "execution_count": 351,
   "metadata": {
    "collapsed": true
   },
   "outputs": [],
   "source": [
    "# Generate distance matrix\n",
    "D_gene = pairwise_distances(gene_abundances,metric=shannon_jensen)"
   ]
  },
  {
   "cell_type": "markdown",
   "metadata": {},
   "source": [
    "# Plot accuracy curve using gene abundances and equivalence classes"
   ]
  },
  {
   "cell_type": "code",
   "execution_count": 360,
   "metadata": {
    "collapsed": false
   },
   "outputs": [],
   "source": [
    "# First, for equivalence classes\n",
    "ind = np.unique(get_indices_for_subset(labels,subsets))\n",
    "\n",
    "scores_ec = []\n",
    "for i in ['1','5','10','30','50','70','90']: \n",
    "    with open('/data/SS_RNA_seq/Code/sparse_eq_class_Zeisel_subsample'+i+'.dat') as infile:\n",
    "        Xs = pickle.load(infile)\n",
    "    with open('/data/SS_RNA_seq/Code/clustering_on_reads/Zeisel_SJ_subsample'+i+'.dat','rb') as infile:\n",
    "        Ds = pickle.load(infile)\n",
    "    Xs = Xs[ind,:]\n",
    "    Ds = Ds[np.ix_(ind,ind)]\n",
    "    labels_s = jz_spectral(Xs,len(subsets),Ds)\n",
    "    a,b,c = jz_analyse_labeling_schemes(Lt_ec,labels_s)\n",
    "    scores_ec.append(c)\n",
    "a,b,c = jz_analyse_labeling_schemes(Lt_ec,spect_labels_ec)\n",
    "scores_ec.append(a)"
   ]
  },
  {
   "cell_type": "code",
   "execution_count": 361,
   "metadata": {
    "collapsed": false
   },
   "outputs": [
    {
     "data": {
      "image/png": "[encoded data removed]",
      "text/plain": [
       "<matplotlib.figure.Figure at 0x7f317c45fc50>"
      ]
     },
     "metadata": {},
     "output_type": "display_data"
    }
   ],
   "source": [
    "%matplotlib inline  \n",
    "plt.plot([1,5,10,30,50,70,90,100],scores_ec)\n",
    "plt.show()"
   ]
  },
  {
   "cell_type": "code",
   "execution_count": 355,
   "metadata": {
    "collapsed": false
   },
   "outputs": [
    {
     "name": "stdout",
     "output_type": "stream",
     "text": [
      "45.8333333333\n"
     ]
    }
   ],
   "source": [
    "# Spectral clustering on subsampled gene abundance matrix\n",
    "labels_s = jz_spectral(gene_abundances,len(subsets),D_gene)\n",
    "a,b,c = jz_analyse_labeling_schemes(Lt_ec,labels_s)\n",
    "print c"
   ]
  }
 ],
 "metadata": {
  "kernelspec": {
   "display_name": "Python 2",
   "language": "python",
   "name": "python2"
  },
  "language_info": {
   "codemirror_mode": {
    "name": "ipython",
    "version": 2
   },
   "file_extension": ".py",
   "mimetype": "text/x-python",
   "name": "python",
   "nbconvert_exporter": "python",
   "pygments_lexer": "ipython2",
   "version": "2.7.10"
  }
 },
 "nbformat": 4,
 "nbformat_minor": 0
}
