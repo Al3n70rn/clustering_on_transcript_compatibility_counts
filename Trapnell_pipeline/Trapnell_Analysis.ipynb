{
 "cells": [
  {
   "cell_type": "markdown",
   "metadata": {},
   "source": [
    "# Analysis for Trapnell's 271 primary human myoblasts\n",
    "\n",
    "Aftering obtaining a transcript compatibility count (TCC) distribution matrix, we use the matrix to:\n",
    "\n",
    "1. Cluster cells via affinity propagation\n",
    "2. Generate minimum weight spanning trees with pie-charts as nodes\n",
    "3. Generate the bar plots for visualizing expressions of certain genes within clusters"
   ]
  },
  {
   "cell_type": "code",
   "execution_count": 3,
   "metadata": {
    "collapsed": true
   },
   "outputs": [],
   "source": [
    "import numpy as np\n",
    "import matplotlib.pyplot as plt\n",
    "import pickle"
   ]
  },
  {
   "cell_type": "markdown",
   "metadata": {},
   "source": [
    "## Initial Cleanup of Data\n",
    "\n",
    "We cleanup the distance matrices to restrict ourselves to the 271 cells used by Trapnell et al."
   ]
  },
  {
   "cell_type": "code",
   "execution_count": 14,
   "metadata": {
    "collapsed": false
   },
   "outputs": [
    {
     "name": "stdout",
     "output_type": "stream",
     "text": [
      "271\n"
     ]
    }
   ],
   "source": [
    "cells_selected=np.loadtxt(\n",
    "    \"/data/SS_RNA_seq/Code/metadata/Trapnell_metadata/HSMM/HSMM_sample_names.txt\",\n",
    "    dtype=str)\n",
    "cell_ids=np.loadtxt(\n",
    "    \"/data/SS_RNA_seq/Code/metadata/Trapnell_metadata/cell_ids_gk.txt\",\n",
    "    dtype=str)\n",
    "cells_ids_SRR = np.loadtxt(\"/data/SS_RNA_seq/Code/metadata/Trapnell_metadata/SRR.txt\"\n",
    "                           ,dtype=str)\n",
    "cells_not_selected_SRR = [cells_ids_SRR[i]+'.fastq.gz' \n",
    "                      for i in range(len(cells_ids_SRR)) \n",
    "                      if cell_ids[i] not in cells_selected]\n",
    "good_cells=[i for i, j in enumerate(cell_ids) if j in cells_selected]\n",
    "\n"
   ]
  },
  {
   "cell_type": "markdown",
   "metadata": {},
   "source": [
    "## Clustering"
   ]
  },
  {
   "cell_type": "code",
   "execution_count": 1,
   "metadata": {
    "collapsed": true
   },
   "outputs": [],
   "source": [
    "# Clustering is done using scikit-learn's implementation of affinity propagation\n",
    "\n",
    "from sklearn import cluster\n",
    "# D is a symmetric N-by-N distance matrix where N is the number of cells\n",
    "def AffinityProp(D):\n",
    "    aff= cluster.AffinityPropagation(affinity='precomputed')\n",
    "    labels=aff.fit_predict(D)\n",
    "    return labels"
   ]
  },
  {
   "cell_type": "markdown",
   "metadata": {},
   "source": [
    "## MST"
   ]
  },
  {
   "cell_type": "code",
   "execution_count": 2,
   "metadata": {
    "collapsed": true
   },
   "outputs": [],
   "source": [
    "# "
   ]
  },
  {
   "cell_type": "markdown",
   "metadata": {},
   "source": [
    "## Bar plot"
   ]
  },
  {
   "cell_type": "code",
   "execution_count": null,
   "metadata": {
    "collapsed": true
   },
   "outputs": [],
   "source": []
  }
 ],
 "metadata": {
  "kernelspec": {
   "display_name": "Python 2",
   "language": "python",
   "name": "python2"
  },
  "language_info": {
   "codemirror_mode": {
    "name": "ipython",
    "version": 2
   },
   "file_extension": ".py",
   "mimetype": "text/x-python",
   "name": "python",
   "nbconvert_exporter": "python",
   "pygments_lexer": "ipython2",
   "version": "2.7.11"
  }
 },
 "nbformat": 4,
 "nbformat_minor": 0
}
