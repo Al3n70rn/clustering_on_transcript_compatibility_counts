{
 "cells": [
  {
   "cell_type": "code",
   "execution_count": 2,
   "metadata": {
    "collapsed": true
   },
   "outputs": [],
   "source": [
    "import numpy as np\n",
    "import pickle"
   ]
  },
  {
   "cell_type": "markdown",
   "metadata": {},
   "source": [
    "## Load pairwise distances and generate TSPLIB file: \"TSP_instance.tsp\""
   ]
  },
  {
   "cell_type": "code",
   "execution_count": 3,
   "metadata": {
    "collapsed": false
   },
   "outputs": [],
   "source": [
    "with open('/data/SS_RNA_seq/Code/pairwise_jensen_shannon_divergence.dat', 'rb') as infile:\n",
    "    D = pickle.load(infile)    \n",
    "    Ds = np.rint(D*100000)\n",
    "    Ds= Ds.astype(int)"
   ]
  },
  {
   "cell_type": "code",
   "execution_count": 4,
   "metadata": {
    "collapsed": false
   },
   "outputs": [],
   "source": [
    "A=Ds\n",
    "zc=np.zeros((np.size(A[:,1]),1), dtype=np.int)\n",
    "zr=np.zeros((1,np.size(A[:,1])+1), dtype=np.int)\n",
    "A=np.c_[zc,A]\n",
    "A=np.r_[zr,A]\n"
   ]
  },
  {
   "cell_type": "code",
   "execution_count": 5,
   "metadata": {
    "collapsed": false
   },
   "outputs": [],
   "source": [
    "f = open(\"TSP_instance.tsp\", \"w\")\n",
    "#write header\n",
    "f.writelines([\"NAME : TSP instance\"+'\\n',\n",
    "\"COMMENT : equivalence class clustering\"+'\\n',\n",
    "\"TYPE : TSP\\n\",\n",
    "\"DIMENSION :\" + str(np.size(A[:,1]))+'\\n',\n",
    "\"EDGE_WEIGHT_TYPE : EXPLICIT\"+'\\n',\n",
    "\"EDGE_WEIGHT_FORMAT : FULL_MATRIX\"+'\\n',\n",
    "\"EDGE_WEIGHT_SECTION\"+'\\n'])\n",
    "#write edge weights\n",
    "for i in range(np.size(A[:,1])):\n",
    "    row_str = ' '.join(['%d' % num for num in A[i,:]])+'\\n'\n",
    "    f.write(row_str)\n",
    "f.write(\"EOF\")   \n",
    "f.close()"
   ]
  },
  {
   "cell_type": "markdown",
   "metadata": {},
   "source": [
    "## Run Concorde to solve TSP_instance.tsp  .... \n",
    "## ... and then continue here to extract/save the optimal path:"
   ]
  },
  {
   "cell_type": "code",
   "execution_count": 6,
   "metadata": {
    "collapsed": false
   },
   "outputs": [
    {
     "name": "stdout",
     "output_type": "stream",
     "text": [
      "the direct traversal has distance: 176858046.0\n",
      "the optimal traversal has distance: 156370907.0\n",
      "[  755.   761.   790. ...,  1420.  2624.  2578.]\n"
     ]
    },
    {
     "data": {
      "text/plain": [
       "3004.0"
      ]
     },
     "execution_count": 6,
     "metadata": {},
     "output_type": "execute_result"
    }
   ],
   "source": [
    "#read the tsp_solution and get opt path\n",
    "with open('path/to/concorde/build/TSP/TSP_instance.sol', 'r') as infile:\n",
    "    lines=infile.readlines()\n",
    "path=[]\n",
    "for line in lines[1:]:\n",
    "    path = path+ [int(s) for s in line[:-2].split(' ')]\n",
    "\n",
    "#sanity check\n",
    "dist=np.zeros(3006)\n",
    "for i in range(3005):\n",
    "        dist[i]=A[i,i+1]\n",
    "print \"the direct traversal has distance: \" + str(dist.sum())\n",
    "           \n",
    "dist=np.zeros(3006)\n",
    "for i in range(3005):\n",
    "        dist[i]=A[path[i],path[i+1]]\n",
    "print \"the optimal traversal has distance: \"+str(dist.sum())    \n",
    "    \n",
    "#remove dummy node and make it zero-indexed    \n",
    "path=path[1:]  \n",
    "path=path -np.ones(3005)   \n",
    "\n",
    "#check \n",
    "print path\n",
    "path.max()\n",
    "\n",
    "\n"
   ]
  },
  {
   "cell_type": "code",
   "execution_count": 7,
   "metadata": {
    "collapsed": true
   },
   "outputs": [],
   "source": [
    "#Save path\n",
    "pickle.dump( path, open( \"TSP_sol_path.dat\", \"wb\" ) )"
   ]
  },
  {
   "cell_type": "code",
   "execution_count": null,
   "metadata": {
    "collapsed": true
   },
   "outputs": [],
   "source": []
  }
 ],
 "metadata": {
  "kernelspec": {
   "display_name": "Python 2",
   "language": "python",
   "name": "python2"
  },
  "language_info": {
   "codemirror_mode": {
    "name": "ipython",
    "version": 2
   },
   "file_extension": ".py",
   "mimetype": "text/x-python",
   "name": "python",
   "nbconvert_exporter": "python",
   "pygments_lexer": "ipython2",
   "version": "2.7.10"
  }
 },
 "nbformat": 4,
 "nbformat_minor": 0
}
