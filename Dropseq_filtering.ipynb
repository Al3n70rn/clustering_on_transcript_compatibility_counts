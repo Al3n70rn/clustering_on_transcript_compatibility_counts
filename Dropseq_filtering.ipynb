{
 "cells": [
  {
   "cell_type": "code",
   "execution_count": 11,
   "metadata": {
    "collapsed": false
   },
   "outputs": [
    {
     "name": "stdout",
     "output_type": "stream",
     "text": [
      "/data/SS_RNA_seq/dropseq_retina_dataset/digital_expression/GSM1626796_P14Retina_4\n"
     ]
    }
   ],
   "source": [
    "cd /data/SS_RNA_seq/dropseq_retina_dataset/digital_expression/GSM1626796_P14Retina_4/"
   ]
  },
  {
   "cell_type": "code",
   "execution_count": null,
   "metadata": {
    "collapsed": false
   },
   "outputs": [],
   "source": [
    "import os\n",
    "import subprocess\n",
    "\n",
    "def get_barcode_dict(dir_path):\n",
    "    barcode_dict={}\n",
    "    for flname in os.listdir(dir_path): #iterating over the files in directory\n",
    "        assert flname.endswith('.sam') #Making sure all files in the directory\n",
    "        #are sam files with barcode as the file name\n",
    "        \n",
    "        barcodename=flname.split('.')[0]\n",
    "        \n",
    "        p = subprocess.Popen(['wc', '-l', dir_path+flname], stdout=subprocess.PIPE, \n",
    "                             stderr=subprocess.PIPE)\n",
    "        out, err = p.communicate()\n",
    "        #print out, err\n",
    "        \n",
    "        num_reads = int(out.split()[0])\n",
    "        \n",
    "        #print barcodename\n",
    "        assert barcodename not in barcode_dict #Making sure same barcode is not seen \n",
    "        #twice\n",
    "        \n",
    "        barcode_dict[barcodename]=num_reads\n",
    "    \n",
    "    return barcode_dict\n",
    "        "
   ]
  },
  {
   "cell_type": "code",
   "execution_count": null,
   "metadata": {
    "collapsed": false
   },
   "outputs": [],
   "source": [
    "dir_path='/data/SS_RNA_seq/dropseq_retina_dataset/digital_expression/GSM1626796_P14Retina_4/'\n",
    "\n",
    "barcode_dict=get_barcode_dict(dir_path)"
   ]
  },
  {
   "cell_type": "code",
   "execution_count": null,
   "metadata": {
    "collapsed": true
   },
   "outputs": [],
   "source": []
  }
 ],
 "metadata": {
  "kernelspec": {
   "display_name": "Python 2",
   "language": "python",
   "name": "python2"
  },
  "language_info": {
   "codemirror_mode": {
    "name": "ipython",
    "version": 2
   },
   "file_extension": ".py",
   "mimetype": "text/x-python",
   "name": "python",
   "nbconvert_exporter": "python",
   "pygments_lexer": "ipython2",
   "version": "2.7.10"
  }
 },
 "nbformat": 4,
 "nbformat_minor": 0
}
